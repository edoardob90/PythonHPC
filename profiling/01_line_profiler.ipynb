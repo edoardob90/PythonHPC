{
 "cells": [
  {
   "cell_type": "code",
   "execution_count": 1,
   "metadata": {},
   "outputs": [],
   "source": [
    "import numpy as np"
   ]
  },
  {
   "cell_type": "code",
   "execution_count": 2,
   "metadata": {},
   "outputs": [],
   "source": [
    "def euclidean_broadcast(x, y):\n",
    "    \"\"\"Euclidean square distance matrix.\n",
    "    \n",
    "    Inputs:\n",
    "    x: (N, m) numpy array\n",
    "    y: (N, m) numpy array\n",
    "    \n",
    "    Ouput:\n",
    "    (N, N) Euclidean square distance matrix:\n",
    "    r_ij = x_ij^2 - y_ij^2\n",
    "    \"\"\"\n",
    "    diff = x[:, np.newaxis, :] - y[np.newaxis, :, :]\n",
    "\n",
    "    return (diff * diff).sum(axis=2)"
   ]
  },
  {
   "cell_type": "code",
   "execution_count": 3,
   "metadata": {},
   "outputs": [],
   "source": [
    "def euclidean_trick(x, y):\n",
    "    \"\"\"Euclidean square distance matrix.\n",
    "    \n",
    "    Inputs:\n",
    "    x: (N, m) numpy array\n",
    "    y: (N, m) numpy array\n",
    "    \n",
    "    Ouput:\n",
    "    (N, N) Euclidean square distance matrix:\n",
    "    r_ij = x_ij^2 - y_ij^2\n",
    "    \"\"\"\n",
    "    x2 = np.einsum('ij,ij->i', x, x)[:, np.newaxis]\n",
    "    y2 = np.einsum('ij,ij->i', y, y)[np.newaxis, :]\n",
    "\n",
    "    xy = np.dot(x, y.T)\n",
    "\n",
    "    return np.abs(x2 + y2 - 2. * xy)"
   ]
  },
  {
   "cell_type": "code",
   "execution_count": 4,
   "metadata": {},
   "outputs": [
    {
     "name": "stdout",
     "output_type": "stream",
     "text": [
      "1.06 s ± 8.75 ms per loop (mean ± std. dev. of 7 runs, 1 loop each)\n",
      "51.2 ms ± 34.5 µs per loop (mean ± std. dev. of 7 runs, 10 loops each)\n"
     ]
    }
   ],
   "source": [
    "nsamples = 2000\n",
    "nfeat = 50\n",
    "\n",
    "x = 10. * np.random.random([nsamples, nfeat])\n",
    "\n",
    "%timeit euclidean_broadcast(x, x)\n",
    "%timeit euclidean_trick(x, x)"
   ]
  },
  {
   "cell_type": "markdown",
   "metadata": {},
   "source": [
    "## `linear_profiler`"
   ]
  },
  {
   "cell_type": "code",
   "execution_count": 5,
   "metadata": {},
   "outputs": [],
   "source": [
    "%load_ext line_profiler"
   ]
  },
  {
   "cell_type": "code",
   "execution_count": 6,
   "metadata": {},
   "outputs": [
    {
     "data": {
      "text/plain": [
       "\u001b[0;31mDocstring:\u001b[0m\n",
       "Execute a statement under the line-by-line profiler from the\n",
       "line_profiler module.\n",
       "\n",
       "Usage:\n",
       "  %lprun -f func1 -f func2 <statement>\n",
       "\n",
       "The given statement (which doesn't require quote marks) is run via the\n",
       "LineProfiler. Profiling is enabled for the functions specified by the -f\n",
       "options. The statistics will be shown side-by-side with the code through the\n",
       "pager once the statement has completed.\n",
       "\n",
       "Options:\n",
       "\n",
       "-f <function>: LineProfiler only profiles functions and methods it is told\n",
       "to profile.  This option tells the profiler about these functions. Multiple\n",
       "-f options may be used. The argument may be any expression that gives\n",
       "a Python function or method object. However, one must be careful to avoid\n",
       "spaces that may confuse the option parser.\n",
       "\n",
       "-m <module>: Get all the functions/methods in a module\n",
       "\n",
       "One or more -f or -m options are required to get any useful results.\n",
       "\n",
       "-D <filename>: dump the raw statistics out to a pickle file on disk. The\n",
       "usual extension for this is \".lprof\". These statistics may be viewed later\n",
       "by running line_profiler.py as a script.\n",
       "\n",
       "-T <filename>: dump the text-formatted statistics with the code side-by-side\n",
       "out to a text file.\n",
       "\n",
       "-r: return the LineProfiler object after it has completed profiling.\n",
       "\n",
       "-s: strip out all entries from the print-out that have zeros.\n",
       "\n",
       "-u: specify time unit for the print-out in seconds.\n",
       "\u001b[0;31mFile:\u001b[0m      /apps/daint/UES/6.0.UP04/sandboxes/sarafael/miniconda-pythonhpc/lib/python3.6/site-packages/line_profiler.py\n"
      ]
     },
     "metadata": {},
     "output_type": "display_data"
    }
   ],
   "source": [
    "%lprun?"
   ]
  },
  {
   "cell_type": "code",
   "execution_count": 7,
   "metadata": {},
   "outputs": [
    {
     "data": {
      "text/plain": [
       "Timer unit: 1e-06 s\n",
       "\n",
       "Total time: 0.049864 s\n",
       "File: <ipython-input-3-40126e716187>\n",
       "Function: euclidean_trick at line 1\n",
       "\n",
       "Line #      Hits         Time  Per Hit   % Time  Line Contents\n",
       "==============================================================\n",
       "     1                                           def euclidean_trick(x, y):\n",
       "     2                                               \"\"\"Euclidean square distance matrix.\n",
       "     3                                               \n",
       "     4                                               Inputs:\n",
       "     5                                               x: (N, m) numpy array\n",
       "     6                                               y: (N, m) numpy array\n",
       "     7                                               \n",
       "     8                                               Ouput:\n",
       "     9                                               (N, N) Euclidean square distance matrix:\n",
       "    10                                               r_ij = x_ij^2 - y_ij^2\n",
       "    11                                               \"\"\"\n",
       "    12         1        187.0    187.0      0.4      x2 = np.einsum('ij,ij->i', x, x)[:, np.newaxis]\n",
       "    13         1        231.0    231.0      0.5      y2 = np.einsum('ij,ij->i', y, y)[np.newaxis, :]\n",
       "    14                                           \n",
       "    15         1      28397.0  28397.0     56.9      xy = np.dot(x, y.T)\n",
       "    16                                           \n",
       "    17         1      21049.0  21049.0     42.2      return np.abs(x2 + y2 - 2. * xy)"
      ]
     },
     "metadata": {},
     "output_type": "display_data"
    }
   ],
   "source": [
    "%lprun -f euclidean_trick euclidean_trick(x, x)"
   ]
  },
  {
   "cell_type": "code",
   "execution_count": 8,
   "metadata": {},
   "outputs": [
    {
     "data": {
      "text/plain": [
       "Timer unit: 1e-06 s\n",
       "\n",
       "Total time: 1.02312 s\n",
       "File: <ipython-input-2-d2c447ba8ccb>\n",
       "Function: euclidean_broadcast at line 1\n",
       "\n",
       "Line #      Hits         Time  Per Hit   % Time  Line Contents\n",
       "==============================================================\n",
       "     1                                           def euclidean_broadcast(x, y):\n",
       "     2                                               \"\"\"Euclidean square distance matrix.\n",
       "     3                                               \n",
       "     4                                               Inputs:\n",
       "     5                                               x: (N, m) numpy array\n",
       "     6                                               y: (N, m) numpy array\n",
       "     7                                               \n",
       "     8                                               Ouput:\n",
       "     9                                               (N, N) Euclidean square distance matrix:\n",
       "    10                                               r_ij = x_ij^2 - y_ij^2\n",
       "    11                                               \"\"\"\n",
       "    12         1     726577.0 726577.0     71.0      diff = x[:, np.newaxis, :] - y[np.newaxis, :, :]\n",
       "    13                                           \n",
       "    14         1     296544.0 296544.0     29.0      return (diff * diff).sum(axis=2)"
      ]
     },
     "metadata": {},
     "output_type": "display_data"
    }
   ],
   "source": [
    "%lprun -f euclidean_broadcast euclidean_broadcast(x,x)"
   ]
  },
  {
   "cell_type": "markdown",
   "metadata": {},
   "source": [
    "## cProfiler"
   ]
  },
  {
   "cell_type": "code",
   "execution_count": 13,
   "metadata": {},
   "outputs": [
    {
     "name": "stdout",
     "output_type": "stream",
     "text": [
      " "
     ]
    },
    {
     "data": {
      "text/plain": [
       "         29 function calls in 0.054 seconds\n",
       "\n",
       "   Ordered by: internal time\n",
       "\n",
       "   ncalls  tottime  percall  cumtime  percall filename:lineno(function)\n",
       "        3    0.030    0.010    0.030    0.010 {built-in method numpy.core._multiarray_umath.implement_array_function}\n",
       "        1    0.021    0.021    0.051    0.051 <ipython-input-3-40126e716187>:1(euclidean_trick)\n",
       "        1    0.003    0.003    0.054    0.054 <string>:1(<module>)\n",
       "        2    0.000    0.000    0.000    0.000 {built-in method numpy.core._multiarray_umath.c_einsum}\n",
       "        1    0.000    0.000    0.054    0.054 {built-in method builtins.exec}\n",
       "        2    0.000    0.000    0.000    0.000 einsumfunc.py:1004(einsum)\n",
       "        2    0.000    0.000    0.000    0.000 <__array_function__ internals>:2(einsum)\n",
       "       10    0.000    0.000    0.000    0.000 einsumfunc.py:995(_einsum_dispatcher)\n",
       "        1    0.000    0.000    0.030    0.030 <__array_function__ internals>:2(dot)\n",
       "        2    0.000    0.000    0.000    0.000 {method 'get' of 'dict' objects}\n",
       "        1    0.000    0.000    0.000    0.000 {method 'disable' of '_lsprof.Profiler' objects}\n",
       "        1    0.000    0.000    0.000    0.000 multiarray.py:707(dot)\n",
       "        2    0.000    0.000    0.000    0.000 {method 'pop' of 'dict' objects}"
      ]
     },
     "metadata": {},
     "output_type": "display_data"
    }
   ],
   "source": [
    "%prun euclidean_trick(x, x)"
   ]
  },
  {
   "cell_type": "code",
   "execution_count": 8,
   "metadata": {},
   "outputs": [],
   "source": [
    "%load_ext memory_profiler"
   ]
  },
  {
   "cell_type": "code",
   "execution_count": 9,
   "metadata": {},
   "outputs": [
    {
     "data": {
      "text/plain": [
       "\u001b[0;31mDocstring:\u001b[0m\n",
       "Execute a statement under the line-by-line memory profiler from the\n",
       "memory_profiler module.\n",
       "\n",
       "Usage, in line mode:\n",
       "  %mprun -f func1 -f func2 <statement>\n",
       "\n",
       "Usage, in cell mode:\n",
       "  %%mprun -f func1 -f func2 [statement]\n",
       "  code...\n",
       "  code...\n",
       "\n",
       "In cell mode, the additional code lines are appended to the (possibly\n",
       "empty) statement in the first line. Cell mode allows you to easily\n",
       "profile multiline blocks without having to put them in a separate\n",
       "function.\n",
       "\n",
       "The given statement (which doesn't require quote marks) is run via the\n",
       "LineProfiler. Profiling is enabled for the functions specified by the -f\n",
       "options. The statistics will be shown side-by-side with the code through\n",
       "the pager once the statement has completed.\n",
       "\n",
       "Options:\n",
       "\n",
       "-f <function>: LineProfiler only profiles functions and methods it is told\n",
       "to profile.  This option tells the profiler about these functions. Multiple\n",
       "-f options may be used. The argument may be any expression that gives\n",
       "a Python function or method object. However, one must be careful to avoid\n",
       "spaces that may confuse the option parser. Additionally, functions defined\n",
       "in the interpreter at the In[] prompt or via %run currently cannot be\n",
       "displayed.  Write these functions out to a separate file and import them.\n",
       "\n",
       "One or more -f options are required to get any useful results.\n",
       "\n",
       "-T <filename>: dump the text-formatted statistics with the code\n",
       "side-by-side out to a text file.\n",
       "\n",
       "-r: return the LineProfiler object after it has completed profiling.\n",
       "\n",
       "-c: If present, add the memory usage of any children process to the report.\n",
       "\u001b[0;31mFile:\u001b[0m      /apps/daint/UES/6.0.UP04/sandboxes/sarafael/miniconda-pythonhpc/lib/python3.6/site-packages/memory_profiler.py\n"
      ]
     },
     "metadata": {},
     "output_type": "display_data"
    }
   ],
   "source": [
    "%mprun?"
   ]
  },
  {
   "cell_type": "code",
   "execution_count": 10,
   "metadata": {},
   "outputs": [
    {
     "name": "stdout",
     "output_type": "stream",
     "text": [
      "ERROR: Could not find file <ipython-input-2-d2c447ba8ccb>\n",
      "NOTE: %mprun can only be used on functions defined in physical files, and not in the IPython environment.\n",
      "\n"
     ]
    },
    {
     "data": {
      "text/plain": []
     },
     "metadata": {},
     "output_type": "display_data"
    }
   ],
   "source": [
    "%mprun -f euclidean_broadcast euclidean_broadcast(x,x)"
   ]
  },
  {
   "cell_type": "code",
   "execution_count": 11,
   "metadata": {},
   "outputs": [
    {
     "name": "stdout",
     "output_type": "stream",
     "text": [
      "/apps/daint/UES/6.0.UP04/sandboxes/sarafael/miniconda-pythonhpc/bin/python\n"
     ]
    }
   ],
   "source": [
    "! which python"
   ]
  },
  {
   "cell_type": "code",
   "execution_count": null,
   "metadata": {},
   "outputs": [],
   "source": []
  }
 ],
 "metadata": {
  "kernelspec": {
   "display_name": "miniconda-pythonhpc",
   "language": "python",
   "name": "miniconda-pythonhpc"
  },
  "language_info": {
   "codemirror_mode": {
    "name": "ipython",
    "version": 3
   },
   "file_extension": ".py",
   "mimetype": "text/x-python",
   "name": "python",
   "nbconvert_exporter": "python",
   "pygments_lexer": "ipython3",
   "version": "3.6.2"
  }
 },
 "nbformat": 4,
 "nbformat_minor": 4
}
