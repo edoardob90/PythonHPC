{
 "cells": [
  {
   "cell_type": "markdown",
   "metadata": {},
   "source": [
    "# Dask Distributed \n",
    "\n",
    "`Dask.distributed` is a centrally managed, distributed, dynamic task scheduler. The central `dask-scheduler` process coordinates the actions of one or more `dask-worker` processes that might be spread across multiple machines.\n",
    "\n",
    "In a nutshell, `dask.distributed` extends `dask` to distributed computing on multiple nodes. \n",
    "\n",
    "It can also be used as the scheduler for a single/local node.\n",
    "\n",
    "One way to start `dask.distributed` locally is with the Client interface. If you create a client without providing an address it will start up a local scheduler and worker for you.\n",
    "\n",
    "```python\n",
    "from dask.distributed import Client\n",
    "client = Client()\n",
    "client\n",
    "```\n",
    "\n",
    "Another way is to start the scheduler and workers by hand. This allows dask.distributed to use multiple machines as workers.\n",
    "\n",
    "```\n",
    "$ dask-scheduler\n",
    "Scheduler started at 127.0.0.1:8786\n",
    "\n",
    "$ dask-worker 127.0.0.1:8786\n",
    "$ dask-worker 127.0.0.1:8786\n",
    "$ dask-worker 127.0.0.1:8786\n",
    "```\n",
    "Here the dask-workers could be started on the same machine or different ones.\n",
    "\n",
    "Launch a Client and point it to the IP/port of the scheduler.\n",
    "\n",
    "```\n",
    "from dask.distributed import Client\n",
    "client = Client('127.0.0.1:8786')\n",
    "```\n",
    "\n",
    "If you are interested in the details of the current scheduler/worker setup issue:\n",
    "```\n",
    "client.scheduler_info()\n",
    "```\n",
    "\n",
    "`dask.distributed` features a sophisticated **web-based monitoring** based on the package `bokeh`. This is exposed in Juptyerlab as a JupyterLab extension. You can use the extension both to start a distributed cluster on your local node, and to examine performance. This is the method we will use to start the scheduler and workers later in this noteobok. \n"
   ]
  },
  {
   "cell_type": "markdown",
   "metadata": {},
   "source": [
    "## Exercises"
   ]
  },
  {
   "cell_type": "markdown",
   "metadata": {},
   "source": [
    "The following examples demonstrate the dask dashboard for use with dask.delayed (which can be used to parallelize generic Python code), and dask.array (which extends numpy arrays to larger than memory).  "
   ]
  },
  {
   "cell_type": "markdown",
   "metadata": {},
   "source": [
    "<div class=\"alert alert-warning alert-block alert-info\">\n",
    "<b>Note:</b> Use the default \"Python 3\" kernel for thse exercises, not the miniconda kernel. \n",
    "</div>"
   ]
  },
  {
   "cell_type": "markdown",
   "metadata": {},
   "source": [
    "## Delayed example\n",
    "\n",
    "As we've seen Dask.delayed is a simple and powerful way to parallelize existing code.  It allows you to delay function calls into a task graph with dependencies.  "
   ]
  },
  {
   "cell_type": "markdown",
   "metadata": {},
   "source": [
    "### Standard Python code\n",
    "\n",
    "Our example is similar to what we've seen earlier - we simulate work using the sleep function. "
   ]
  },
  {
   "cell_type": "code",
   "execution_count": null,
   "metadata": {},
   "outputs": [],
   "source": [
    "from time import sleep\n",
    "\n",
    "def inc(x):\n",
    "    from time import sleep\n",
    "    sleep(2)\n",
    "    return x + 1\n",
    "\n",
    "def dec(x):\n",
    "    from time import sleep\n",
    "    sleep(2)\n",
    "    return x - 1\n",
    "    \n",
    "def add(x, y):\n",
    "    from time import sleep\n",
    "    sleep(0.5)\n",
    "    return x + y"
   ]
  },
  {
   "cell_type": "markdown",
   "metadata": {},
   "source": [
    "### Run sequentially\n",
    "\n",
    "Should take 4.5 seconds..."
   ]
  },
  {
   "cell_type": "code",
   "execution_count": null,
   "metadata": {},
   "outputs": [],
   "source": [
    "%%time\n",
    "x = inc(1)\n",
    "y = dec(2)\n",
    "z = add(x, y)\n",
    "z"
   ]
  },
  {
   "cell_type": "markdown",
   "metadata": {},
   "source": [
    "### Annotate the Python functions with dask\n",
    "\n",
    "\n",
    "These now become lazy versions. Rather than computing the result immediately, they record what we want to compute and stick that task into a graph that we'll run later in parallel using the distributed scheduler."
   ]
  },
  {
   "cell_type": "code",
   "execution_count": null,
   "metadata": {},
   "outputs": [],
   "source": [
    "import dask\n",
    "inc = dask.delayed(inc)\n",
    "dec = dask.delayed(dec)\n",
    "add = dask.delayed(add)"
   ]
  },
  {
   "cell_type": "markdown",
   "metadata": {},
   "source": [
    "Calling these lazy functions takes no time, but we are only constructing a graph."
   ]
  },
  {
   "cell_type": "code",
   "execution_count": null,
   "metadata": {},
   "outputs": [],
   "source": [
    "%%time\n",
    "x = inc(1)\n",
    "y = dec(2)\n",
    "z = add(x, y)\n",
    "z"
   ]
  },
  {
   "cell_type": "code",
   "execution_count": null,
   "metadata": {},
   "outputs": [],
   "source": [
    "z"
   ]
  },
  {
   "cell_type": "markdown",
   "metadata": {},
   "source": [
    "### Visualize the graph"
   ]
  },
  {
   "cell_type": "code",
   "execution_count": null,
   "metadata": {},
   "outputs": [],
   "source": [
    "z.visualize(rankdir='LR')"
   ]
  },
  {
   "cell_type": "markdown",
   "metadata": {},
   "source": [
    "### Execute with threads on our local machine\n",
    "Should take three seconds, as we can do the inc and dec in parallel."
   ]
  },
  {
   "cell_type": "code",
   "execution_count": null,
   "metadata": {},
   "outputs": [],
   "source": [
    "%%time\n",
    "z.compute()"
   ]
  },
  {
   "cell_type": "markdown",
   "metadata": {},
   "source": [
    "### Now, create a distributed cluster \n",
    "\n",
    "We connect to our cluster. Now rather than running locally, all of our computations will happen on our cluster. In this example, we create a distributed cluster on the node that we are already running on. But the distributed cluster could be a remote HPC system, an Amazon instance, etc.\n",
    "\n",
    "Create a cluster from the Dask dashboard tab on the left hand side. To create a cluster click `+NEW`. Drag over the client code into this notebook and execute it. The code cell will look similar to the following:\n",
    "\n",
    "```\n",
    "from dask.distributed import Client\n",
    "client = Client(\"tcp://127.0.0.1:44443\")\n",
    "client\n",
    "```"
   ]
  },
  {
   "cell_type": "markdown",
   "metadata": {},
   "source": [
    "Arrange the dask task stream, dask progress, and/or other components in your workspace and monitor performance. "
   ]
  },
  {
   "cell_type": "code",
   "execution_count": null,
   "metadata": {},
   "outputs": [],
   "source": [
    "client.scheduler_info()"
   ]
  },
  {
   "cell_type": "code",
   "execution_count": null,
   "metadata": {},
   "outputs": [],
   "source": [
    "%%time\n",
    "z.compute()"
   ]
  },
  {
   "cell_type": "markdown",
   "metadata": {},
   "source": [
    "### Parallelize normal Python code\n",
    "\n",
    "Now we use Dask in \"for loop\" Python code. This generates graphs instead of doing computations directly, but still looks like the code we had before. "
   ]
  },
  {
   "cell_type": "code",
   "execution_count": null,
   "metadata": {},
   "outputs": [],
   "source": [
    "%%time\n",
    "zs = []\n",
    "for i in range(256):\n",
    "    x = inc(i)\n",
    "    y = dec(x)\n",
    "    z = add(x, y)\n",
    "    zs.append(z)\n",
    "    \n",
    "zs = dask.persist(*zs)\n",
    "total = dask.delayed(sum)(zs)\n",
    "total.compute()"
   ]
  },
  {
   "cell_type": "markdown",
   "metadata": {},
   "source": [
    "By looking at the Dask dashboard we can see that Dask spreads this work around our cluster, managing load balancing, dependencies, etc."
   ]
  },
  {
   "cell_type": "markdown",
   "metadata": {},
   "source": [
    "### Custom computation: a tree summation\n",
    "\n",
    "As an example of a non-trivial algorithm, consider the classic tree reduction.  We accomplish this with a nested for loop and a bit of normal Python logic.\n",
    "\n",
    "```\n",
    "finish           total             single output\n",
    "    ^          /        \\\n",
    "    |        c1          c2        neighbors merge\n",
    "    |       /  \\        /  \\\n",
    "    |     b1    b2    b3    b4     neighbors merge\n",
    "    ^    / \\   / \\   / \\   / \\\n",
    "start   a1 a2 a3 a4 a5 a6 a7 a8    many inputs\n",
    "```"
   ]
  },
  {
   "cell_type": "code",
   "execution_count": null,
   "metadata": {},
   "outputs": [],
   "source": [
    "L = zs\n",
    "while len(L) > 1:\n",
    "    new_L = []\n",
    "    for i in range(0, len(L), 2):\n",
    "        lazy = add(L[i], L[i + 1])  # add neighbors\n",
    "        new_L.append(lazy)\n",
    "    L = new_L                       # swap old list for new"
   ]
  },
  {
   "cell_type": "code",
   "execution_count": null,
   "metadata": {},
   "outputs": [],
   "source": [
    "dask.visualize(*L)"
   ]
  },
  {
   "cell_type": "code",
   "execution_count": null,
   "metadata": {},
   "outputs": [],
   "source": [
    "dask.compute(L)"
   ]
  },
  {
   "cell_type": "markdown",
   "metadata": {},
   "source": [
    "Note the red bars for inter-worker communication.  Also note how there is lots of parallelism at the beginning but less towards the end as we reach the top of the tree where there is less work to do."
   ]
  },
  {
   "cell_type": "markdown",
   "metadata": {},
   "source": [
    "## Dask array operations\n",
    "Let's take a look at some numpy operations and how to use to dask dashboard to guage the performance.\n",
    "\n",
    "Shut down your cluster and create a new one. Drag the client code across and run it. It will look something like the following:\n",
    "\n",
    "```\n",
    "from dask.distributed import Client\n",
    "\n",
    "client = Client(\"tcp://127.0.0.1:33111\")\n",
    "client\n",
    "```\n",
    "\n"
   ]
  },
  {
   "cell_type": "code",
   "execution_count": null,
   "metadata": {},
   "outputs": [],
   "source": [
    "import dask.array as da\n",
    "x = da.random.random((10000,20000,10), chunks=(1000,1000,5))\n",
    "y = da.random.random((10000,20000,10), chunks=(1000,1000,5))\n",
    "z = (da.arcsin(x) + da.arccos(y)).sum(axis=(1,2))"
   ]
  },
  {
   "cell_type": "markdown",
   "metadata": {},
   "source": [
    "Take a look at the size and shape of the array and the chunking:"
   ]
  },
  {
   "cell_type": "code",
   "execution_count": null,
   "metadata": {},
   "outputs": [],
   "source": [
    "x"
   ]
  },
  {
   "cell_type": "markdown",
   "metadata": {},
   "source": [
    "Now call compute and observe the dask task stream, progress and memory usage."
   ]
  },
  {
   "cell_type": "code",
   "execution_count": null,
   "metadata": {},
   "outputs": [],
   "source": [
    "z.compute()"
   ]
  },
  {
   "cell_type": "markdown",
   "metadata": {},
   "source": [
    "In the next example, we observe the effect on performance of a poor choice of chunk size"
   ]
  },
  {
   "cell_type": "code",
   "execution_count": null,
   "metadata": {},
   "outputs": [],
   "source": [
    "%%time\n",
    "x = da.random.random(10_000_000, chunks=1000) #chunks of size 1000\n",
    "x.sum().compute()"
   ]
  },
  {
   "cell_type": "markdown",
   "metadata": {},
   "source": [
    "<div class=\"alert alert-block alert-warning\">\n",
    "    <b>Note:</b> chunks stands for \"chunk shape\" rather than \"number of chunks\", so specifying chunks=1 means that you will have very many chunks, each with exactly one element!\n",
    "</div>\n",
    "\n",
    "<mark>Question</mark> How does the performance look? \n",
    "\n",
    "<mark>Question</mark> Try to improve things by using larger chunk sizes. \n",
    "\n",
    "<mark>Question</mark> What about only a single chunk. What is this equivalent to, and how does performance compare with that?"
   ]
  },
  {
   "cell_type": "code",
   "execution_count": null,
   "metadata": {},
   "outputs": [],
   "source": []
  }
 ],
 "metadata": {
  "anaconda-cloud": {},
  "kernelspec": {
   "display_name": "Python 3",
   "language": "python",
   "name": "python3"
  },
  "language_info": {
   "codemirror_mode": {
    "name": "ipython",
    "version": 3
   },
   "file_extension": ".py",
   "mimetype": "text/x-python",
   "name": "python",
   "nbconvert_exporter": "python",
   "pygments_lexer": "ipython3",
   "version": "3.6.5"
  }
 },
 "nbformat": 4,
 "nbformat_minor": 4
}
                                                                                                                                                                                                                                                                                                                                                                                                                                                                                                                                                                                                                                                                                                                                                                                                                                                                                                                                                                                                                                                                                                                                                                                                                                                                                                                                                                                                                                                                                                                                                                                                                                                                                                                                                                                                                                                                                                                                                                                                                                                                                                                                                                                                                                                                                                                                                                                                                                                                                                                                                                                                                                                                                                                                                                                                                                                                                                                                                                                                                                                                                                                                                                                                                                                                                                                                                                                                                                                                                                                                                                                                                                                                                                                                                                                                              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\n",
      "text/plain": [
       "<IPython.core.display.Image object>"
      ]
     },
     "execution_count": 6,
     "metadata": {},
     "output_type": "execute_result"
    }
   ],
   "source": [
    "z.visualize(rankdir='LR')"
   ]
  },
  {
   "cell_type": "markdown",
   "metadata": {},
   "source": [
    "### Execute with threads on our local machine\n",
    "Should take three seconds, as we can do the inc and dec in parallel."
   ]
  },
  {
   "cell_type": "code",
   "execution_count": 7,
   "metadata": {},
   "outputs": [
    {
     "name": "stdout",
     "output_type": "stream",
     "text": [
      "CPU times: user 11.9 ms, sys: 25 µs, total: 11.9 ms\n",
      "Wall time: 2.51 s\n"
     ]
    },
    {
     "data": {
      "text/plain": [
       "3"
      ]
     },
     "execution_count": 7,
     "metadata": {},
     "output_type": "execute_result"
    }
   ],
   "source": [
    "%%time\n",
    "z.compute()"
   ]
  },
  {
   "cell_type": "markdown",
   "metadata": {},
   "source": [
    "### Now, create a distributed cluster \n",
    "\n",
    "We connect to our cluster. Now rather than running locally, all of our computations will happen on our cluster. In this example, we create a distributed cluster on the node that we are already running on. But the distributed cluster could be a remote HPC system, an Amazon instance, etc.\n",
    "\n",
    "Create a cluster from the Dask dashboard tab on the left hand side. To create a cluster click `+NEW`. Drag over the client code into this notebook and execute it. The code cell will look similar to the following:\n",
    "\n",
    "```\n",
    "from dask.distributed import Client\n",
    "client = Client(\"tcp://127.0.0.1:44443\")\n",
    "client\n",
    "```"
   ]
  },
  {
   "cell_type": "markdown",
   "metadata": {},
   "source": [
    "Arrange the dask task stream, dask progress, and/or other components in your workspace and monitor performance. "
   ]
  },
  {
   "cell_type": "code",
   "execution_count": 9,
   "metadata": {},
   "outputs": [
    {
     "data": {
      "text/html": [
       "<table style=\"border: 2px solid white;\">\n",
       "<tr>\n",
       "<td style=\"vertical-align: top; border: 0px solid white\">\n",
       "<h3 style=\"text-align: left;\">Client</h3>\n",
       "<ul style=\"text-align: left; list-style: none; margin: 0; padding: 0;\">\n",
       "  <li><b>Scheduler: </b>tcp://127.0.0.1:34379</li>\n",
       "  <li><b>Dashboard: </b><a href='http://127.0.0.1:8787/status' target='_blank'>http://127.0.0.1:8787/status</a>\n",
       "</ul>\n",
       "</td>\n",
       "<td style=\"vertical-align: top; border: 0px solid white\">\n",
       "<h3 style=\"text-align: left;\">Cluster</h3>\n",
       "<ul style=\"text-align: left; list-style:none; margin: 0; padding: 0;\">\n",
       "  <li><b>Workers: </b>6</li>\n",
       "  <li><b>Cores: </b>24</li>\n",
       "  <li><b>Memory: </b>67.42 GB</li>\n",
       "</ul>\n",
       "</td>\n",
       "</tr>\n",
       "</table>"
      ],
      "text/plain": [
       "<Client: scheduler='tcp://127.0.0.1:34379' processes=6 cores=24>"
      ]
     },
     "execution_count": 9,
     "metadata": {},
     "output_type": "execute_result"
    }
   ],
   "source": [
    "from dask.distributed import Client\n",
    "\n",
    "client = Client(\"tcp://127.0.0.1:34379\")\n",
    "client"
   ]
  },
  {
   "cell_type": "code",
   "execution_count": 10,
   "metadata": {
    "scrolled": true
   },
   "outputs": [
    {
     "data": {
      "text/plain": [
       "{'type': 'Scheduler',\n",
       " 'id': 'Scheduler-30715ed7-561b-490e-a9a9-2509ccaa3d94',\n",
       " 'address': 'tcp://127.0.0.1:34379',\n",
       " 'services': {'dashboard': 8787},\n",
       " 'workers': {'tcp://127.0.0.1:36435': {'type': 'Worker',\n",
       "   'id': 0,\n",
       "   'host': '127.0.0.1',\n",
       "   'resources': {},\n",
       "   'local_directory': '/users/course48/dask-worker-space/worker-ias690h1',\n",
       "   'name': 0,\n",
       "   'nthreads': 4,\n",
       "   'memory_limit': 11237083818,\n",
       "   'last_seen': 1573562095.4510846,\n",
       "   'services': {},\n",
       "   'metrics': {'cpu': 2.0,\n",
       "    'memory': 35905536,\n",
       "    'time': 1573562095.450155,\n",
       "    'read_bytes': 5773.742734504195,\n",
       "    'write_bytes': 5773.742734504195,\n",
       "    'num_fds': 22,\n",
       "    'executing': 0,\n",
       "    'in_memory': 0,\n",
       "    'ready': 0,\n",
       "    'in_flight': 0,\n",
       "    'bandwidth': 100000000},\n",
       "   'nanny': 'tcp://127.0.0.1:45955'},\n",
       "  'tcp://127.0.0.1:36995': {'type': 'Worker',\n",
       "   'id': 1,\n",
       "   'host': '127.0.0.1',\n",
       "   'resources': {},\n",
       "   'local_directory': '/users/course48/dask-worker-space/worker-q19vvynj',\n",
       "   'name': 1,\n",
       "   'nthreads': 4,\n",
       "   'memory_limit': 11237083818,\n",
       "   'last_seen': 1573562095.460906,\n",
       "   'services': {},\n",
       "   'metrics': {'cpu': 2.0,\n",
       "    'memory': 35901440,\n",
       "    'time': 1573562095.459973,\n",
       "    'read_bytes': 5406.9499484114785,\n",
       "    'write_bytes': 5406.9499484114785,\n",
       "    'num_fds': 22,\n",
       "    'executing': 0,\n",
       "    'in_memory': 0,\n",
       "    'ready': 0,\n",
       "    'in_flight': 0,\n",
       "    'bandwidth': 100000000},\n",
       "   'nanny': 'tcp://127.0.0.1:40117'},\n",
       "  'tcp://127.0.0.1:38003': {'type': 'Worker',\n",
       "   'id': 3,\n",
       "   'host': '127.0.0.1',\n",
       "   'resources': {},\n",
       "   'local_directory': '/users/course48/dask-worker-space/worker-6i9chkac',\n",
       "   'name': 3,\n",
       "   'nthreads': 4,\n",
       "   'memory_limit': 11237083818,\n",
       "   'last_seen': 1573562095.4600098,\n",
       "   'services': {},\n",
       "   'metrics': {'cpu': 2.0,\n",
       "    'memory': 35934208,\n",
       "    'time': 1573562095.4590938,\n",
       "    'read_bytes': 5768.050395789931,\n",
       "    'write_bytes': 5768.050395789931,\n",
       "    'num_fds': 22,\n",
       "    'executing': 0,\n",
       "    'in_memory': 0,\n",
       "    'ready': 0,\n",
       "    'in_flight': 0,\n",
       "    'bandwidth': 100000000},\n",
       "   'nanny': 'tcp://127.0.0.1:40053'},\n",
       "  'tcp://127.0.0.1:39311': {'type': 'Worker',\n",
       "   'id': 2,\n",
       "   'host': '127.0.0.1',\n",
       "   'resources': {},\n",
       "   'local_directory': '/users/course48/dask-worker-space/worker-vlpdakxq',\n",
       "   'name': 2,\n",
       "   'nthreads': 4,\n",
       "   'memory_limit': 11237083818,\n",
       "   'last_seen': 1573562095.4615188,\n",
       "   'services': {},\n",
       "   'metrics': {'cpu': 2.0,\n",
       "    'memory': 35766272,\n",
       "    'time': 1573562095.4604971,\n",
       "    'read_bytes': 5169.690200939998,\n",
       "    'write_bytes': 5169.690200939998,\n",
       "    'num_fds': 22,\n",
       "    'executing': 0,\n",
       "    'in_memory': 0,\n",
       "    'ready': 0,\n",
       "    'in_flight': 0,\n",
       "    'bandwidth': 100000000},\n",
       "   'nanny': 'tcp://127.0.0.1:40971'},\n",
       "  'tcp://127.0.0.1:43105': {'type': 'Worker',\n",
       "   'id': 4,\n",
       "   'host': '127.0.0.1',\n",
       "   'resources': {},\n",
       "   'local_directory': '/users/course48/dask-worker-space/worker-xgahi_3i',\n",
       "   'name': 4,\n",
       "   'nthreads': 4,\n",
       "   'memory_limit': 11237083818,\n",
       "   'last_seen': 1573562095.4621716,\n",
       "   'services': {},\n",
       "   'metrics': {'cpu': 2.0,\n",
       "    'memory': 35823616,\n",
       "    'time': 1573562095.461234,\n",
       "    'read_bytes': 5424.399352644047,\n",
       "    'write_bytes': 5424.399352644047,\n",
       "    'num_fds': 22,\n",
       "    'executing': 0,\n",
       "    'in_memory': 0,\n",
       "    'ready': 0,\n",
       "    'in_flight': 0,\n",
       "    'bandwidth': 100000000},\n",
       "   'nanny': 'tcp://127.0.0.1:46651'},\n",
       "  'tcp://127.0.0.1:45331': {'type': 'Worker',\n",
       "   'id': 5,\n",
       "   'host': '127.0.0.1',\n",
       "   'resources': {},\n",
       "   'local_directory': '/users/course48/dask-worker-space/worker-2kbofcix',\n",
       "   'name': 5,\n",
       "   'nthreads': 4,\n",
       "   'memory_limit': 11237083818,\n",
       "   'last_seen': 1573562095.456603,\n",
       "   'services': {},\n",
       "   'metrics': {'cpu': 2.0,\n",
       "    'memory': 35995648,\n",
       "    'time': 1573562095.4556644,\n",
       "    'read_bytes': 5772.575288884819,\n",
       "    'write_bytes': 5772.575288884819,\n",
       "    'num_fds': 22,\n",
       "    'executing': 0,\n",
       "    'in_memory': 0,\n",
       "    'ready': 0,\n",
       "    'in_flight': 0,\n",
       "    'bandwidth': 100000000},\n",
       "   'nanny': 'tcp://127.0.0.1:36197'}}}"
      ]
     },
     "execution_count": 10,
     "metadata": {},
     "output_type": "execute_result"
    }
   ],
   "source": [
    "client.scheduler_info()"
   ]
  },
  {
   "cell_type": "code",
   "execution_count": 13,
   "metadata": {},
   "outputs": [
    {
     "name": "stdout",
     "output_type": "stream",
     "text": [
      "CPU times: user 9.61 ms, sys: 0 ns, total: 9.61 ms\n",
      "Wall time: 2.52 s\n"
     ]
    },
    {
     "data": {
      "text/plain": [
       "3"
      ]
     },
     "execution_count": 13,
     "metadata": {},
     "output_type": "execute_result"
    }
   ],
   "source": [
    "%%time\n",
    "z.compute()"
   ]
  },
  {
   "cell_type": "markdown",
   "metadata": {},
   "source": [
    "### Parallelize normal Python code\n",
    "\n",
    "Now we use Dask in \"for loop\" Python code. This generates graphs instead of doing computations directly, but still looks like the code we had before. "
   ]
  },
  {
   "cell_type": "code",
   "execution_count": 14,
   "metadata": {},
   "outputs": [
    {
     "name": "stdout",
     "output_type": "stream",
     "text": [
      "CPU times: user 247 ms, sys: 10.2 ms, total: 257 ms\n",
      "Wall time: 50.3 s\n"
     ]
    },
    {
     "data": {
      "text/plain": [
       "65536"
      ]
     },
     "execution_count": 14,
     "metadata": {},
     "output_type": "execute_result"
    },
    {
     "name": "stderr",
     "output_type": "stream",
     "text": [
      "distributed.client - ERROR - Failed to reconnect to scheduler after 10.00 seconds, closing client\n",
      "distributed.utils - ERROR - \n",
      "Traceback (most recent call last):\n",
      "  File \"/apps/dom/UES/jenkins/7.0.UP01/gpu/easybuild/software/dask/2.2.0-CrayGNU-19.10-python3/lib/python3.6/site-packages/distributed/utils.py\", line 656, in log_errors\n",
      "    yield\n",
      "  File \"/apps/dom/UES/jenkins/7.0.UP01/gpu/easybuild/software/dask/2.2.0-CrayGNU-19.10-python3/lib/python3.6/site-packages/distributed/client.py\", line 1267, in _close\n",
      "    await gen.with_timeout(timedelta(seconds=2), list(coroutines))\n",
      "concurrent.futures._base.CancelledError\n",
      "distributed.utils - ERROR - \n",
      "Traceback (most recent call last):\n",
      "  File \"/apps/dom/UES/jenkins/7.0.UP01/gpu/easybuild/software/dask/2.2.0-CrayGNU-19.10-python3/lib/python3.6/site-packages/distributed/utils.py\", line 656, in log_errors\n",
      "    yield\n",
      "  File \"/apps/dom/UES/jenkins/7.0.UP01/gpu/easybuild/software/dask/2.2.0-CrayGNU-19.10-python3/lib/python3.6/site-packages/distributed/client.py\", line 997, in _reconnect\n",
      "    await self._close()\n",
      "  File \"/apps/dom/UES/jenkins/7.0.UP01/gpu/easybuild/software/dask/2.2.0-CrayGNU-19.10-python3/lib/python3.6/site-packages/distributed/client.py\", line 1267, in _close\n",
      "    await gen.with_timeout(timedelta(seconds=2), list(coroutines))\n",
      "concurrent.futures._base.CancelledError\n"
     ]
    }
   ],
   "source": [
    "%%time\n",
    "zs = []\n",
    "for i in range(256):\n",
    "    x = inc(i)\n",
    "    y = dec(x)\n",
    "    z = add(x, y)\n",
    "    zs.append(z)\n",
    "    \n",
    "zs = dask.persist(*zs)\n",
    "total = dask.delayed(sum)(zs)\n",
    "total.compute()"
   ]
  },
  {
   "cell_type": "markdown",
   "metadata": {},
   "source": [
    "By looking at the Dask dashboard we can see that Dask spreads this work around our cluster, managing load balancing, dependencies, etc."
   ]
  },
  {
   "cell_type": "markdown",
   "metadata": {},
   "source": [
    "### Custom computation: a tree summation\n",
    "\n",
    "As an example of a non-trivial algorithm, consider the classic tree reduction.  We accomplish this with a nested for loop and a bit of normal Python logic.\n",
    "\n",
    "```\n",
    "finish           total             single output\n",
    "    ^          /        \\\n",
    "    |        c1          c2        neighbors merge\n",
    "    |       /  \\        /  \\\n",
    "    |     b1    b2    b3    b4     neighbors merge\n",
    "    ^    / \\   / \\   / \\   / \\\n",
    "start   a1 a2 a3 a4 a5 a6 a7 a8    many inputs\n",
    "```"
   ]
  },
  {
   "cell_type": "code",
   "execution_count": null,
   "metadata": {},
   "outputs": [],
   "source": [
    "L = zs\n",
    "while len(L) > 1:\n",
    "    new_L = []\n",
    "    for i in range(0, len(L), 2):\n",
    "        lazy = add(L[i], L[i + 1])  # add neighbors\n",
    "        new_L.append(lazy)\n",
    "    L = new_L                       # swap old list for new"
   ]
  },
  {
   "cell_type": "code",
   "execution_count": null,
   "metadata": {},
   "outputs": [],
   "source": [
    "dask.visualize(*L)"
   ]
  },
  {
   "cell_type": "code",
   "execution_count": null,
   "metadata": {},
   "outputs": [],
   "source": [
    "dask.compute(L)"
   ]
  },
  {
   "cell_type": "markdown",
   "metadata": {},
   "source": [
    "Note the red bars for inter-worker communication.  Also note how there is lots of parallelism at the beginning but less towards the end as we reach the top of the tree where there is less work to do."
   ]
  },
  {
   "cell_type": "markdown",
   "metadata": {},
   "source": [
    "## Dask array operations\n",
    "Let's take a look at some numpy operations and how to use to dask dashboard to guage the performance.\n",
    "\n",
    "Shut down your cluster and create a new one. Drag the client code across and run it. It will look something like the following:\n",
    "\n",
    "```\n",
    "from dask.distributed import Client\n",
    "\n",
    "client = Client(\"tcp://127.0.0.1:33111\")\n",
    "client\n",
    "```\n",
    "\n"
   ]
  },
  {
   "cell_type": "code",
   "execution_count": 15,
   "metadata": {},
   "outputs": [
    {
     "data": {
      "text/html": [
       "<table style=\"border: 2px solid white;\">\n",
       "<tr>\n",
       "<td style=\"vertical-align: top; border: 0px solid white\">\n",
       "<h3 style=\"text-align: left;\">Client</h3>\n",
       "<ul style=\"text-align: left; list-style: none; margin: 0; padding: 0;\">\n",
       "  <li><b>Scheduler: </b>tcp://127.0.0.1:39319</li>\n",
       "  <li><b>Dashboard: </b><a href='http://127.0.0.1:8787/status' target='_blank'>http://127.0.0.1:8787/status</a>\n",
       "</ul>\n",
       "</td>\n",
       "<td style=\"vertical-align: top; border: 0px solid white\">\n",
       "<h3 style=\"text-align: left;\">Cluster</h3>\n",
       "<ul style=\"text-align: left; list-style:none; margin: 0; padding: 0;\">\n",
       "  <li><b>Workers: </b>6</li>\n",
       "  <li><b>Cores: </b>24</li>\n",
       "  <li><b>Memory: </b>67.42 GB</li>\n",
       "</ul>\n",
       "</td>\n",
       "</tr>\n",
       "</table>"
      ],
      "text/plain": [
       "<Client: scheduler='tcp://127.0.0.1:39319' processes=6 cores=24>"
      ]
     },
     "execution_count": 15,
     "metadata": {},
     "output_type": "execute_result"
    }
   ],
   "source": [
    "from dask.distributed import Client\n",
    "\n",
    "client = Client(\"tcp://127.0.0.1:39319\")\n",
    "client"
   ]
  },
  {
   "cell_type": "code",
   "execution_count": 16,
   "metadata": {},
   "outputs": [],
   "source": [
    "import dask.array as da\n",
    "x = da.random.random((10000,20000,10), chunks=(1000,1000,5))\n",
    "y = da.random.random((10000,20000,10), chunks=(1000,1000,5))\n",
    "z = (da.arcsin(x) + da.arccos(y)).sum(axis=(1,2))"
   ]
  },
  {
   "cell_type": "markdown",
   "metadata": {},
   "source": [
    "Take a look at the size and shape of the array and the chunking:"
   ]
  },
  {
   "cell_type": "code",
   "execution_count": 17,
   "metadata": {},
   "outputs": [
    {
     "data": {
      "text/html": [
       "<table>\n",
       "<tr>\n",
       "<td>\n",
       "<table>  <thead>    <tr><td> </td><th> Array </th><th> Chunk </th></tr>\n",
       "  </thead>\n",
       "  <tbody>\n",
       "    <tr><th> Bytes </th><td> 16.00 GB </td> <td> 40.00 MB </td></tr>\n",
       "    <tr><th> Shape </th><td> (10000, 20000, 10) </td> <td> (1000, 1000, 5) </td></tr>\n",
       "    <tr><th> Count </th><td> 400 Tasks </td><td> 400 Chunks </td></tr>\n",
       "    <tr><th> Type </th><td> float64 </td><td> numpy.ndarray </td></tr>\n",
       "  </tbody></table>\n",
       "</td>\n",
       "<td>\n",
       "<svg width=\"120\" height=\"205\" style=\"stroke:rgb(0,0,0);stroke-width:1\" >\n",
       "\n",
       "  <!-- Horizontal lines -->\n",
       "  <line x1=\"10\" y1=\"0\" x2=\"45\" y2=\"35\" style=\"stroke-width:2\" />\n",
       "  <line x1=\"10\" y1=\"6\" x2=\"45\" y2=\"41\" />\n",
       "  <line x1=\"10\" y1=\"12\" x2=\"45\" y2=\"47\" />\n",
       "  <line x1=\"10\" y1=\"18\" x2=\"45\" y2=\"53\" />\n",
       "  <line x1=\"10\" y1=\"24\" x2=\"45\" y2=\"59\" />\n",
       "  <line x1=\"10\" y1=\"30\" x2=\"45\" y2=\"65\" />\n",
       "  <line x1=\"10\" y1=\"36\" x2=\"45\" y2=\"71\" />\n",
       "  <line x1=\"10\" y1=\"42\" x2=\"45\" y2=\"77\" />\n",
       "  <line x1=\"10\" y1=\"48\" x2=\"45\" y2=\"83\" />\n",
       "  <line x1=\"10\" y1=\"54\" x2=\"45\" y2=\"89\" />\n",
       "  <line x1=\"10\" y1=\"60\" x2=\"45\" y2=\"95\" />\n",
       "  <line x1=\"10\" y1=\"66\" x2=\"45\" y2=\"101\" />\n",
       "  <line x1=\"10\" y1=\"72\" x2=\"45\" y2=\"107\" />\n",
       "  <line x1=\"10\" y1=\"78\" x2=\"45\" y2=\"113\" />\n",
       "  <line x1=\"10\" y1=\"84\" x2=\"45\" y2=\"119\" />\n",
       "  <line x1=\"10\" y1=\"90\" x2=\"45\" y2=\"125\" />\n",
       "  <line x1=\"10\" y1=\"96\" x2=\"45\" y2=\"131\" />\n",
       "  <line x1=\"10\" y1=\"102\" x2=\"45\" y2=\"137\" />\n",
       "  <line x1=\"10\" y1=\"108\" x2=\"45\" y2=\"143\" />\n",
       "  <line x1=\"10\" y1=\"114\" x2=\"45\" y2=\"149\" />\n",
       "  <line x1=\"10\" y1=\"120\" x2=\"45\" y2=\"155\" style=\"stroke-width:2\" />\n",
       "\n",
       "  <!-- Vertical lines -->\n",
       "  <line x1=\"10\" y1=\"0\" x2=\"10\" y2=\"120\" style=\"stroke-width:2\" />\n",
       "  <line x1=\"13\" y1=\"3\" x2=\"13\" y2=\"123\" />\n",
       "  <line x1=\"17\" y1=\"7\" x2=\"17\" y2=\"127\" />\n",
       "  <line x1=\"20\" y1=\"10\" x2=\"20\" y2=\"130\" />\n",
       "  <line x1=\"24\" y1=\"14\" x2=\"24\" y2=\"134\" />\n",
       "  <line x1=\"27\" y1=\"17\" x2=\"27\" y2=\"137\" />\n",
       "  <line x1=\"31\" y1=\"21\" x2=\"31\" y2=\"141\" />\n",
       "  <line x1=\"34\" y1=\"24\" x2=\"34\" y2=\"144\" />\n",
       "  <line x1=\"38\" y1=\"28\" x2=\"38\" y2=\"148\" />\n",
       "  <line x1=\"41\" y1=\"31\" x2=\"41\" y2=\"151\" />\n",
       "  <line x1=\"45\" y1=\"35\" x2=\"45\" y2=\"155\" style=\"stroke-width:2\" />\n",
       "\n",
       "  <!-- Colored Rectangle -->\n",
       "  <polygon points=\"10.000000,0.000000 45.294118,35.294118 45.294118,155.294118 10.000000,120.000000\" style=\"fill:#ECB172A0;stroke-width:0\"/>\n",
       "\n",
       "  <!-- Horizontal lines -->\n",
       "  <line x1=\"10\" y1=\"0\" x2=\"35\" y2=\"0\" style=\"stroke-width:2\" />\n",
       "  <line x1=\"13\" y1=\"3\" x2=\"38\" y2=\"3\" />\n",
       "  <line x1=\"17\" y1=\"7\" x2=\"42\" y2=\"7\" />\n",
       "  <line x1=\"20\" y1=\"10\" x2=\"46\" y2=\"10\" />\n",
       "  <line x1=\"24\" y1=\"14\" x2=\"49\" y2=\"14\" />\n",
       "  <line x1=\"27\" y1=\"17\" x2=\"53\" y2=\"17\" />\n",
       "  <line x1=\"31\" y1=\"21\" x2=\"56\" y2=\"21\" />\n",
       "  <line x1=\"34\" y1=\"24\" x2=\"60\" y2=\"24\" />\n",
       "  <line x1=\"38\" y1=\"28\" x2=\"63\" y2=\"28\" />\n",
       "  <line x1=\"41\" y1=\"31\" x2=\"67\" y2=\"31\" />\n",
       "  <line x1=\"45\" y1=\"35\" x2=\"70\" y2=\"35\" style=\"stroke-width:2\" />\n",
       "\n",
       "  <!-- Vertical lines -->\n",
       "  <line x1=\"10\" y1=\"0\" x2=\"45\" y2=\"35\" style=\"stroke-width:2\" />\n",
       "  <line x1=\"22\" y1=\"0\" x2=\"58\" y2=\"35\" />\n",
       "  <line x1=\"35\" y1=\"0\" x2=\"70\" y2=\"35\" style=\"stroke-width:2\" />\n",
       "\n",
       "  <!-- Colored Rectangle -->\n",
       "  <polygon points=\"10.000000,0.000000 35.412617,0.000000 70.706734,35.294118 45.294118,35.294118\" style=\"fill:#ECB172A0;stroke-width:0\"/>\n",
       "\n",
       "  <!-- Horizontal lines -->\n",
       "  <line x1=\"45\" y1=\"35\" x2=\"70\" y2=\"35\" style=\"stroke-width:2\" />\n",
       "  <line x1=\"45\" y1=\"41\" x2=\"70\" y2=\"41\" />\n",
       "  <line x1=\"45\" y1=\"47\" x2=\"70\" y2=\"47\" />\n",
       "  <line x1=\"45\" y1=\"53\" x2=\"70\" y2=\"53\" />\n",
       "  <line x1=\"45\" y1=\"59\" x2=\"70\" y2=\"59\" />\n",
       "  <line x1=\"45\" y1=\"65\" x2=\"70\" y2=\"65\" />\n",
       "  <line x1=\"45\" y1=\"71\" x2=\"70\" y2=\"71\" />\n",
       "  <line x1=\"45\" y1=\"77\" x2=\"70\" y2=\"77\" />\n",
       "  <line x1=\"45\" y1=\"83\" x2=\"70\" y2=\"83\" />\n",
       "  <line x1=\"45\" y1=\"89\" x2=\"70\" y2=\"89\" />\n",
       "  <line x1=\"45\" y1=\"95\" x2=\"70\" y2=\"95\" />\n",
       "  <line x1=\"45\" y1=\"101\" x2=\"70\" y2=\"101\" />\n",
       "  <line x1=\"45\" y1=\"107\" x2=\"70\" y2=\"107\" />\n",
       "  <line x1=\"45\" y1=\"113\" x2=\"70\" y2=\"113\" />\n",
       "  <line x1=\"45\" y1=\"119\" x2=\"70\" y2=\"119\" />\n",
       "  <line x1=\"45\" y1=\"125\" x2=\"70\" y2=\"125\" />\n",
       "  <line x1=\"45\" y1=\"131\" x2=\"70\" y2=\"131\" />\n",
       "  <line x1=\"45\" y1=\"137\" x2=\"70\" y2=\"137\" />\n",
       "  <line x1=\"45\" y1=\"143\" x2=\"70\" y2=\"143\" />\n",
       "  <line x1=\"45\" y1=\"149\" x2=\"70\" y2=\"149\" />\n",
       "  <line x1=\"45\" y1=\"155\" x2=\"70\" y2=\"155\" style=\"stroke-width:2\" />\n",
       "\n",
       "  <!-- Vertical lines -->\n",
       "  <line x1=\"45\" y1=\"35\" x2=\"45\" y2=\"155\" style=\"stroke-width:2\" />\n",
       "  <line x1=\"58\" y1=\"35\" x2=\"58\" y2=\"155\" />\n",
       "  <line x1=\"70\" y1=\"35\" x2=\"70\" y2=\"155\" style=\"stroke-width:2\" />\n",
       "\n",
       "  <!-- Colored Rectangle -->\n",
       "  <polygon points=\"45.294118,35.294118 70.706734,35.294118 70.706734,155.294118 45.294118,155.294118\" style=\"fill:#ECB172A0;stroke-width:0\"/>\n",
       "\n",
       "  <!-- Text -->\n",
       "  <text x=\"58.000426\" y=\"175.294118\" font-size=\"1.0rem\" font-weight=\"100\" text-anchor=\"middle\" >10</text>\n",
       "  <text x=\"90.706734\" y=\"95.294118\" font-size=\"1.0rem\" font-weight=\"100\" text-anchor=\"middle\" transform=\"rotate(-90,90.706734,95.294118)\">20000</text>\n",
       "  <text x=\"17.647059\" y=\"157.647059\" font-size=\"1.0rem\" font-weight=\"100\" text-anchor=\"middle\" transform=\"rotate(45,17.647059,157.647059)\">10000</text>\n",
       "</svg>\n",
       "</td>\n",
       "</tr>\n",
       "</table>"
      ],
      "text/plain": [
       "dask.array<random_sample, shape=(10000, 20000, 10), dtype=float64, chunksize=(1000, 1000, 5)>"
      ]
     },
     "execution_count": 17,
     "metadata": {},
     "output_type": "execute_result"
    }
   ],
   "source": [
    "x"
   ]
  },
  {
   "cell_type": "markdown",
   "metadata": {},
   "source": [
    "Now call compute and observe the dask task stream, progress and memory usage."
   ]
  },
  {
   "cell_type": "code",
   "execution_count": 18,
   "metadata": {},
   "outputs": [
    {
     "data": {
      "text/plain": [
       "array([314188.06932085, 314075.45718039, 314240.84944062, ...,\n",
       "       313931.24756567, 314087.36635298, 314513.17938256])"
      ]
     },
     "execution_count": 18,
     "metadata": {},
     "output_type": "execute_result"
    }
   ],
   "source": [
    "z.compute()"
   ]
  },
  {
   "cell_type": "markdown",
   "metadata": {},
   "source": [
    "In the next example, we observe the effect on performance of a poor choice of chunk size"
   ]
  },
  {
   "cell_type": "code",
   "execution_count": 20,
   "metadata": {},
   "outputs": [
    {
     "name": "stdout",
     "output_type": "stream",
     "text": [
      "CPU times: user 3.06 s, sys: 154 ms, total: 3.22 s\n",
      "Wall time: 11.7 s\n"
     ]
    },
    {
     "data": {
      "text/plain": [
       "4999183.600612353"
      ]
     },
     "execution_count": 20,
     "metadata": {},
     "output_type": "execute_result"
    }
   ],
   "source": [
    "%%time\n",
    "x = da.random.random(10_000_000, chunks=1000) #chunks of size 1000\n",
    "x.sum().compute()"
   ]
  },
  {
   "cell_type": "markdown",
   "metadata": {},
   "source": [
    "<div class=\"alert alert-block alert-warning\">\n",
    "    <b>Note:</b> chunks stands for \"chunk shape\" rather than \"number of chunks\", so specifying chunks=1 means that you will have very many chunks, each with exactly one element!\n",
    "</div>\n",
    "\n",
    "<mark>Question</mark> How does the performance look? \n",
    "\n",
    "<mark>Question</mark> Try to improve things by using larger chunk sizes. \n",
    "\n",
    "<mark>Question</mark> What about only a single chunk. What is this equivalent to, and how does performance compare with that?"
   ]
  },
  {
   "cell_type": "code",
   "execution_count": null,
   "metadata": {},
   "outputs": [],
   "source": []
  }
 ],
 "metadata": {
  "anaconda-cloud": {},
  "kernelspec": {
   "display_name": "Python 3",
   "language": "python",
   "name": "python3"
  },
  "language_info": {
   "codemirror_mode": {
    "name": "ipython",
    "version": 3
   },
   "file_extension": ".py",
   "mimetype": "text/x-python",
   "name": "python",
   "nbconvert_exporter": "python",
   "pygments_lexer": "ipython3",
   "version": "3.6.5"
  }
 },
 "nbformat": 4,
 "nbformat_minor": 4
}
