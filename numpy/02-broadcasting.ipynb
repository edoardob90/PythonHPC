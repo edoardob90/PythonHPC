{
 "cells": [
  {
   "cell_type": "markdown",
   "metadata": {},
   "source": [
    "# Basics of broadcasting\n",
    "The concept [broadcasting](https://docs.scipy.org/doc/numpy/user/basics.broadcasting.html) has to do with the way NumPy treats the arrays during operations involving different shapes. For instance, an array of shape `(5,)` added to an escalar, gives an array of shape `(5, )` where to all the elements was added the escaler:"
   ]
  },
  {
   "cell_type": "code",
   "execution_count": 2,
   "metadata": {},
   "outputs": [],
   "source": [
    "import numpy as np"
   ]
  },
  {
   "cell_type": "code",
   "execution_count": 3,
   "metadata": {},
   "outputs": [
    {
     "data": {
      "text/plain": [
       "array([1., 2., 3., 4., 5.])"
      ]
     },
     "execution_count": 3,
     "metadata": {},
     "output_type": "execute_result"
    }
   ],
   "source": [
    "x = np.arange(5)   # of shape (5,)\n",
    "x + 1."
   ]
  },
  {
   "cell_type": "markdown",
   "metadata": {},
   "source": [
    "An important operation in broadcasting is to create new dimensions of an array using `np.newaxis` ."
   ]
  },
  {
   "cell_type": "code",
   "execution_count": 4,
   "metadata": {},
   "outputs": [
    {
     "data": {
      "text/plain": [
       "(5,)"
      ]
     },
     "execution_count": 4,
     "metadata": {},
     "output_type": "execute_result"
    }
   ],
   "source": [
    "x = np.arange(5)\n",
    "x.shape"
   ]
  },
  {
   "cell_type": "code",
   "execution_count": 20,
   "metadata": {},
   "outputs": [
    {
     "name": "stdout",
     "output_type": "stream",
     "text": [
      "306 ns ± 1.12 ns per loop (mean ± std. dev. of 7 runs, 1000000 loops each)\n"
     ]
    }
   ],
   "source": [
    "%timeit x[:, np.newaxis].shape"
   ]
  },
  {
   "cell_type": "code",
   "execution_count": 21,
   "metadata": {},
   "outputs": [
    {
     "name": "stdout",
     "output_type": "stream",
     "text": [
      "307 ns ± 0.34 ns per loop (mean ± std. dev. of 7 runs, 1000000 loops each)\n"
     ]
    }
   ],
   "source": [
    "%timeit x[np.newaxis, :].shape"
   ]
  },
  {
   "cell_type": "markdown",
   "metadata": {},
   "source": [
    "<mark>Question</mark> From what you have already learned about the `numpy.ndarray`s, the operation `x[:, np.newaxis]` allocates new memory or can it be described with only a change on the metadata?\n",
    "\n",
    "***\n",
    "\n",
    "Broadcasting is often usefull to perform operations that are not vectorial in the mathematical sense, in a vectorial fashion. For instance, the next cell produces the array `y` with the different of all the possible combinations of the elements of `x`."
   ]
  },
  {
   "cell_type": "code",
   "execution_count": 8,
   "metadata": {},
   "outputs": [
    {
     "data": {
      "text/plain": [
       "(array([[0],\n",
       "        [1],\n",
       "        [2],\n",
       "        [3],\n",
       "        [4]]), array([[0, 1, 2, 3, 4]]))"
      ]
     },
     "execution_count": 8,
     "metadata": {},
     "output_type": "execute_result"
    }
   ],
   "source": [
    "x[:, np.newaxis], x[np.newaxis,:]"
   ]
  },
  {
   "cell_type": "code",
   "execution_count": 12,
   "metadata": {},
   "outputs": [
    {
     "name": "stdout",
     "output_type": "stream",
     "text": [
      "[[0 1 2 3 4]\n",
      " [1 2 3 4 5]\n",
      " [2 3 4 5 6]\n",
      " [3 4 5 6 7]\n",
      " [4 5 6 7 8]] \n",
      "\n",
      " (5, 5)\n"
     ]
    }
   ],
   "source": [
    "y = x[:, np.newaxis] + x[np.newaxis, :]\n",
    "print(y,\"\\n\\n\",y.shape)"
   ]
  },
  {
   "cell_type": "markdown",
   "metadata": {},
   "source": [
    "Here what happens is that each element of the `(5, 1)` array is added the `(5,)` element of the `(1, 5)` array. This will already know that produces an array of shape `(5,)`. Repeated for the five elements, this gives a `(5, 5)` array. \n",
    "\n",
    "***\n",
    "\n",
    "Let's see know how to get again the difference of all combinations of the `(3,)` elements of a `(10, 3)` array:"
   ]
  },
  {
   "cell_type": "code",
   "execution_count": 19,
   "metadata": {},
   "outputs": [
    {
     "data": {
      "text/plain": [
       "((10, 3), (24, 8))"
      ]
     },
     "execution_count": 19,
     "metadata": {},
     "output_type": "execute_result"
    }
   ],
   "source": [
    "x = np.random.rand(10, 3)\n",
    "x.shape, x.strides"
   ]
  },
  {
   "cell_type": "code",
   "execution_count": 14,
   "metadata": {},
   "outputs": [
    {
     "data": {
      "text/plain": [
       "(10, 1, 3)"
      ]
     },
     "execution_count": 14,
     "metadata": {},
     "output_type": "execute_result"
    }
   ],
   "source": [
    "x[:, np.newaxis, :].shape"
   ]
  },
  {
   "cell_type": "code",
   "execution_count": 15,
   "metadata": {},
   "outputs": [
    {
     "data": {
      "text/plain": [
       "(1, 10, 3)"
      ]
     },
     "execution_count": 15,
     "metadata": {},
     "output_type": "execute_result"
    }
   ],
   "source": [
    "x[np.newaxis, :, :].shape"
   ]
  },
  {
   "cell_type": "code",
   "execution_count": 16,
   "metadata": {},
   "outputs": [],
   "source": [
    "y = x[np.newaxis, :, :] - x[:, np.newaxis, :]"
   ]
  },
  {
   "cell_type": "code",
   "execution_count": 17,
   "metadata": {},
   "outputs": [
    {
     "data": {
      "text/plain": [
       "array([[[ 0.        ,  0.        ,  0.        ],\n",
       "        [ 0.37787374, -0.25127257, -0.23446511],\n",
       "        [ 0.21071955, -0.48951952, -0.81449504],\n",
       "        [-0.09078163, -0.04050461, -0.0508845 ],\n",
       "        [ 0.25893037, -0.66840897, -0.61543305],\n",
       "        [ 0.16243632,  0.0438838 , -0.92023276],\n",
       "        [ 0.29716301, -0.41989016, -0.10249453],\n",
       "        [ 0.42755087, -0.27865016, -0.04598045],\n",
       "        [ 0.23308922, -0.66500671, -0.48355998],\n",
       "        [ 0.08134059, -0.32254185, -0.84768468]],\n",
       "\n",
       "       [[-0.37787374,  0.25127257,  0.23446511],\n",
       "        [ 0.        ,  0.        ,  0.        ],\n",
       "        [-0.16715419, -0.23824695, -0.58002993],\n",
       "        [-0.46865537,  0.21076796,  0.18358062],\n",
       "        [-0.11894337, -0.41713639, -0.38096794],\n",
       "        [-0.21543742,  0.29515638, -0.68576765],\n",
       "        [-0.08071073, -0.16861758,  0.13197059],\n",
       "        [ 0.04967713, -0.02737759,  0.18848466],\n",
       "        [-0.14478452, -0.41373413, -0.24909487],\n",
       "        [-0.29653315, -0.07126928, -0.61321957]],\n",
       "\n",
       "       [[-0.21071955,  0.48951952,  0.81449504],\n",
       "        [ 0.16715419,  0.23824695,  0.58002993],\n",
       "        [ 0.        ,  0.        ,  0.        ],\n",
       "        [-0.30150119,  0.44901491,  0.76361055],\n",
       "        [ 0.04821082, -0.17888945,  0.19906199],\n",
       "        [-0.04828324,  0.53340333, -0.10573772],\n",
       "        [ 0.08644345,  0.06962936,  0.71200052],\n",
       "        [ 0.21683132,  0.21086936,  0.76851459],\n",
       "        [ 0.02236966, -0.17548719,  0.33093506],\n",
       "        [-0.12937896,  0.16697767, -0.03318964]],\n",
       "\n",
       "       [[ 0.09078163,  0.04050461,  0.0508845 ],\n",
       "        [ 0.46865537, -0.21076796, -0.18358062],\n",
       "        [ 0.30150119, -0.44901491, -0.76361055],\n",
       "        [ 0.        ,  0.        ,  0.        ],\n",
       "        [ 0.349712  , -0.62790436, -0.56454856],\n",
       "        [ 0.25321795,  0.08438842, -0.86934826],\n",
       "        [ 0.38794464, -0.37938555, -0.05161003],\n",
       "        [ 0.51833251, -0.23814555,  0.00490404],\n",
       "        [ 0.32387085, -0.6245021 , -0.43267548],\n",
       "        [ 0.17212222, -0.28203724, -0.79680018]],\n",
       "\n",
       "       [[-0.25893037,  0.66840897,  0.61543305],\n",
       "        [ 0.11894337,  0.41713639,  0.38096794],\n",
       "        [-0.04821082,  0.17888945, -0.19906199],\n",
       "        [-0.349712  ,  0.62790436,  0.56454856],\n",
       "        [ 0.        ,  0.        ,  0.        ],\n",
       "        [-0.09649405,  0.71229277, -0.30479971],\n",
       "        [ 0.03823264,  0.24851881,  0.51293853],\n",
       "        [ 0.1686205 ,  0.3897588 ,  0.5694526 ],\n",
       "        [-0.02584116,  0.00340226,  0.13187307],\n",
       "        [-0.17758978,  0.34586711, -0.23225163]],\n",
       "\n",
       "       [[-0.16243632, -0.0438838 ,  0.92023276],\n",
       "        [ 0.21543742, -0.29515638,  0.68576765],\n",
       "        [ 0.04828324, -0.53340333,  0.10573772],\n",
       "        [-0.25321795, -0.08438842,  0.86934826],\n",
       "        [ 0.09649405, -0.71229277,  0.30479971],\n",
       "        [ 0.        ,  0.        ,  0.        ],\n",
       "        [ 0.13472669, -0.46377396,  0.81773823],\n",
       "        [ 0.26511456, -0.32253397,  0.87425231],\n",
       "        [ 0.0706529 , -0.70889051,  0.43667278],\n",
       "        [-0.08109573, -0.36642566,  0.07254808]],\n",
       "\n",
       "       [[-0.29716301,  0.41989016,  0.10249453],\n",
       "        [ 0.08071073,  0.16861758, -0.13197059],\n",
       "        [-0.08644345, -0.06962936, -0.71200052],\n",
       "        [-0.38794464,  0.37938555,  0.05161003],\n",
       "        [-0.03823264, -0.24851881, -0.51293853],\n",
       "        [-0.13472669,  0.46377396, -0.81773823],\n",
       "        [ 0.        ,  0.        ,  0.        ],\n",
       "        [ 0.13038787,  0.14123999,  0.05651407],\n",
       "        [-0.06407379, -0.24511655, -0.38106546],\n",
       "        [-0.21582242,  0.0973483 , -0.74519015]],\n",
       "\n",
       "       [[-0.42755087,  0.27865016,  0.04598045],\n",
       "        [-0.04967713,  0.02737759, -0.18848466],\n",
       "        [-0.21683132, -0.21086936, -0.76851459],\n",
       "        [-0.51833251,  0.23814555, -0.00490404],\n",
       "        [-0.1686205 , -0.3897588 , -0.5694526 ],\n",
       "        [-0.26511456,  0.32253397, -0.87425231],\n",
       "        [-0.13038787, -0.14123999, -0.05651407],\n",
       "        [ 0.        ,  0.        ,  0.        ],\n",
       "        [-0.19446166, -0.38635654, -0.43757953],\n",
       "        [-0.34621028, -0.04389169, -0.80170423]],\n",
       "\n",
       "       [[-0.23308922,  0.66500671,  0.48355998],\n",
       "        [ 0.14478452,  0.41373413,  0.24909487],\n",
       "        [-0.02236966,  0.17548719, -0.33093506],\n",
       "        [-0.32387085,  0.6245021 ,  0.43267548],\n",
       "        [ 0.02584116, -0.00340226, -0.13187307],\n",
       "        [-0.0706529 ,  0.70889051, -0.43667278],\n",
       "        [ 0.06407379,  0.24511655,  0.38106546],\n",
       "        [ 0.19446166,  0.38635654,  0.43757953],\n",
       "        [ 0.        ,  0.        ,  0.        ],\n",
       "        [-0.15174862,  0.34246485, -0.3641247 ]],\n",
       "\n",
       "       [[-0.08134059,  0.32254185,  0.84768468],\n",
       "        [ 0.29653315,  0.07126928,  0.61321957],\n",
       "        [ 0.12937896, -0.16697767,  0.03318964],\n",
       "        [-0.17212222,  0.28203724,  0.79680018],\n",
       "        [ 0.17758978, -0.34586711,  0.23225163],\n",
       "        [ 0.08109573,  0.36642566, -0.07254808],\n",
       "        [ 0.21582242, -0.0973483 ,  0.74519015],\n",
       "        [ 0.34621028,  0.04389169,  0.80170423],\n",
       "        [ 0.15174862, -0.34246485,  0.3641247 ],\n",
       "        [ 0.        ,  0.        ,  0.        ]]])"
      ]
     },
     "execution_count": 17,
     "metadata": {},
     "output_type": "execute_result"
    }
   ],
   "source": [
    "y"
   ]
  },
  {
   "cell_type": "code",
   "execution_count": 18,
   "metadata": {},
   "outputs": [
    {
     "data": {
      "text/plain": [
       "(10, 10, 3)"
      ]
     },
     "execution_count": 18,
     "metadata": {},
     "output_type": "execute_result"
    }
   ],
   "source": [
    "y.shape"
   ]
  },
  {
   "cell_type": "code",
   "execution_count": null,
   "metadata": {},
   "outputs": [],
   "source": []
  }
 ],
 "metadata": {
  "kernelspec": {
   "display_name": "Python 3",
   "language": "python",
   "name": "python3"
  },
  "language_info": {
   "codemirror_mode": {
    "name": "ipython",
    "version": 3
   },
   "file_extension": ".py",
   "mimetype": "text/x-python",
   "name": "python",
   "nbconvert_exporter": "python",
   "pygments_lexer": "ipython3",
   "version": "3.6.5"
  }
 },
 "nbformat": 4,
 "nbformat_minor": 4
}
