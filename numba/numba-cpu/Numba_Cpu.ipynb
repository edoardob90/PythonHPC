{
 "cells": [
  {
   "cell_type": "markdown",
   "metadata": {},
   "source": [
    "# Just-in-time Compilation with [Numba](http://numba.pydata.org/) "
   ]
  },
  {
   "cell_type": "code",
   "execution_count": null,
   "metadata": {},
   "outputs": [],
   "source": [
    "import math\n",
    "import numpy as np\n",
    "import matplotlib.pyplot as plt\n",
    "import numba"
   ]
  },
  {
   "cell_type": "markdown",
   "metadata": {},
   "source": [
    "## Using `numba.jit`\n",
    "\n",
    "Numba offers `jit` which can used to decorate Python functions."
   ]
  },
  {
   "cell_type": "code",
   "execution_count": null,
   "metadata": {},
   "outputs": [],
   "source": [
    "def is_prime(n):\n",
    "    if n <= 1:\n",
    "        raise ArithmeticError('\"%s\" <= 1' % n)\n",
    "    if n == 2 or n == 3:\n",
    "        return True\n",
    "    elif n % 2 == 0:\n",
    "        return False\n",
    "    else:\n",
    "        n_sqrt = math.ceil(math.sqrt(n))\n",
    "        for i in range(3, n_sqrt):\n",
    "            if n % i == 0:\n",
    "                return False\n",
    "            \n",
    "    return True"
   ]
  },
  {
   "cell_type": "code",
   "execution_count": null,
   "metadata": {},
   "outputs": [],
   "source": [
    "n = np.random.randint(2, 10000000, dtype=np.int64) # Get a random integer between 2 and 10000000\n",
    "print(n, is_prime(n))"
   ]
  },
  {
   "cell_type": "code",
   "execution_count": null,
   "metadata": {},
   "outputs": [],
   "source": [
    "#is_prime(1)"
   ]
  },
  {
   "cell_type": "code",
   "execution_count": null,
   "metadata": {},
   "outputs": [],
   "source": [
    "@numba.jit\n",
    "def is_prime_jitted(n):\n",
    "    if n <= 1:\n",
    "        raise ArithmeticError('\"%s\" <= 1' % n)\n",
    "    if n == 2 or n == 3:\n",
    "        return True\n",
    "    elif n % 2 == 0:\n",
    "        return False\n",
    "    else:\n",
    "        n_sqrt = math.ceil(math.sqrt(n))\n",
    "        for i in range(3, n_sqrt):\n",
    "            if n % i == 0:\n",
    "                return False\n",
    "\n",
    "    return True"
   ]
  },
  {
   "cell_type": "code",
   "execution_count": null,
   "metadata": {},
   "outputs": [],
   "source": [
    "numbers = np.random.randint(2, 100000, dtype=np.int64, size=10000)\n",
    "%time p1 = [is_prime(n) for n in numbers]\n",
    "%time p2 = [is_prime_jitted(n) for n in numbers]"
   ]
  },
  {
   "cell_type": "markdown",
   "metadata": {},
   "source": [
    "## Using `numba.jit` with `nopython=True`"
   ]
  },
  {
   "cell_type": "code",
   "execution_count": null,
   "metadata": {},
   "outputs": [],
   "source": [
    "@numba.jit(nopython=True)\n",
    "def is_prime_njitted(n):\n",
    "    if n <= 1:\n",
    "        raise ArithmeticError('\"%s\" <= 1' % n)\n",
    "    if n == 2 or n == 3:\n",
    "        return True\n",
    "    elif n % 2 == 0:\n",
    "        return False\n",
    "    else:\n",
    "        n_sqrt = math.ceil(math.sqrt(n))\n",
    "        for i in range(3, n_sqrt):\n",
    "            if n % i == 0:\n",
    "                return False\n",
    "\n",
    "    return True"
   ]
  },
  {
   "cell_type": "code",
   "execution_count": null,
   "metadata": {},
   "outputs": [],
   "source": [
    "numbers = np.random.randint(2, 100000, dtype=np.int64, size=1000)\n",
    "%time p1 = [is_prime_jitted(n) for n in numbers]\n",
    "%time p2 = [is_prime_njitted(n) for n in numbers]"
   ]
  },
  {
   "cell_type": "markdown",
   "metadata": {},
   "source": [
    "## Using ` @numba.jit(nopython=True)` is equivalent to using ` @numba.njit`"
   ]
  },
  {
   "cell_type": "code",
   "execution_count": null,
   "metadata": {},
   "outputs": [],
   "source": [
    "@numba.njit\n",
    "def is_prime_njitted(n):\n",
    "    if n <= 1:\n",
    "        raise ArithmeticError('n <= 1')\n",
    "    if n == 2 or n == 3:\n",
    "        return True\n",
    "    elif n % 2 == 0:\n",
    "        return False\n",
    "    else:\n",
    "        n_sqrt = math.ceil(math.sqrt(n))\n",
    "        for i in range(3, n_sqrt):\n",
    "            if n % i == 0:\n",
    "                return False\n",
    "\n",
    "    return True"
   ]
  },
  {
   "cell_type": "code",
   "execution_count": null,
   "metadata": {},
   "outputs": [],
   "source": [
    "numbers = np.random.randint(2, 100000, dtype=np.int64, size=1000)\n",
    "%time p = [is_prime_njitted(n) for n in numbers]\n",
    "%time p = [is_prime_njitted(n) for n in numbers]"
   ]
  },
  {
   "cell_type": "markdown",
   "metadata": {},
   "source": [
    "## Use `cache=True` to cache the compiled function"
   ]
  },
  {
   "cell_type": "code",
   "execution_count": null,
   "metadata": {},
   "outputs": [],
   "source": [
    "import math\n",
    "from numba import njit\n",
    "\n",
    "@njit(cache=True)\n",
    "def is_prime_njitted_cached(n):\n",
    "    if n <= 1:\n",
    "        raise ArithmeticError('n <= 1')\n",
    "    if n == 2 or n == 3:\n",
    "        return True\n",
    "    elif n % 2 == 0:\n",
    "        return False\n",
    "    else:\n",
    "        n_sqrt = math.ceil(math.sqrt(n))\n",
    "        for i in range(3, n_sqrt):\n",
    "            if n % i == 0:\n",
    "                return False\n",
    "\n",
    "    return True"
   ]
  },
  {
   "cell_type": "code",
   "execution_count": null,
   "metadata": {},
   "outputs": [],
   "source": [
    "numbers = np.random.randint(2, 100000, dtype=np.int64, size=1000)\n",
    "%time p = [is_prime_njitted_cached(n) for n in numbers]\n",
    "%time p = [is_prime_njitted_cached(n) for n in numbers]"
   ]
  },
  {
   "cell_type": "markdown",
   "metadata": {},
   "source": [
    "## Eager compilation using function signatures"
   ]
  },
  {
   "cell_type": "code",
   "execution_count": null,
   "metadata": {},
   "outputs": [],
   "source": [
    "import math\n",
    "from numba import njit\n",
    "\n",
    "@njit(['boolean(int64)', 'boolean(int32)'])\n",
    "def is_prime_njitted_eager(n):\n",
    "    if n <= 1:\n",
    "        raise ArithmeticError('n <= 1')\n",
    "    if n == 2 or n == 3:\n",
    "        return True\n",
    "    elif n % 2 == 0:\n",
    "        return False\n",
    "    else:\n",
    "        n_sqrt = math.ceil(math.sqrt(n))\n",
    "        for i in range(3, n_sqrt):\n",
    "            if n % i == 0:\n",
    "                return False\n",
    "\n",
    "    return True"
   ]
  },
  {
   "cell_type": "code",
   "execution_count": null,
   "metadata": {},
   "outputs": [],
   "source": [
    "numbers = np.random.randint(2, 1000000, dtype=np.int64, size=1000)\n",
    "%time p1 = [is_prime_njitted_eager(n) for n in numbers]\n",
    "%time p2 = [is_prime_njitted_eager(n) for n in numbers]"
   ]
  },
  {
   "cell_type": "code",
   "execution_count": null,
   "metadata": {},
   "outputs": [],
   "source": [
    "p1 = [is_prime_njitted_eager(n) for n in numbers.astype(np.int32)]\n",
    "#p2 = [is_prime_njitted_eager(n) for n in numbers.astype(np.float64)]"
   ]
  },
  {
   "cell_type": "markdown",
   "metadata": {},
   "source": [
    "## Calculating and plotting the [Mandelbrot set](https://en.wikipedia.org/wiki/Mandelbrot_set)"
   ]
  },
  {
   "cell_type": "code",
   "execution_count": null,
   "metadata": {},
   "outputs": [],
   "source": [
    "X, Y = np.meshgrid(np.linspace(-2.0, 1, 1000), np.linspace(-1.0, 1.0, 1000))\n",
    "\n",
    "def mandelbrot(X, Y, itermax):\n",
    "    mandel = np.empty(shape=X.shape, dtype=np.int32)\n",
    "    for i in range(X.shape[0]):\n",
    "        for j in range(X.shape[1]):\n",
    "            it = 0\n",
    "            cx = X[i, j]\n",
    "            cy = Y[i, j]\n",
    "            x = 0.0\n",
    "            y = 0.0\n",
    "            while x * x + y * y < 4.0 and it < itermax:\n",
    "                x, y = x * x - y * y + cx, 2.0 * x * y + cy\n",
    "                it += 1\n",
    "            mandel[i, j] = it\n",
    "            \n",
    "    return mandel"
   ]
  },
  {
   "cell_type": "code",
   "execution_count": null,
   "metadata": {},
   "outputs": [],
   "source": [
    "fig = plt.figure(figsize=(15, 10))\n",
    "ax = fig.add_subplot(111)\n",
    "\n",
    "%time m = mandelbrot(X, Y, 100)\n",
    "    \n",
    "ax.imshow(np.log(1 + m), extent=[-2.0, 1, -1.0, 1.0]);\n",
    "ax.set_aspect('equal')\n",
    "ax.set_ylabel('Im[c]')\n",
    "ax.set_xlabel('Re[c]');"
   ]
  },
  {
   "cell_type": "code",
   "execution_count": null,
   "metadata": {},
   "outputs": [],
   "source": [
    "@numba.njit(parallel=True)\n",
    "def mandelbrot_jitted(X, Y, radius2, itermax):\n",
    "    mandel = np.empty(shape=X.shape, dtype=np.int32)\n",
    "    for i in numba.prange(X.shape[0]):\n",
    "        for j in range(X.shape[1]):\n",
    "            it = 0\n",
    "            cx = X[i, j]\n",
    "            cy = Y[i, j]\n",
    "            x = cx\n",
    "            y = cy\n",
    "            while x * x + y * y < 4.0 and it < itermax:\n",
    "                x, y = x * x - y * y + cx, 2.0 * x * y + cy\n",
    "                it += 1\n",
    "            mandel[i, j] = it\n",
    "            \n",
    "    return mandel"
   ]
  },
  {
   "cell_type": "code",
   "execution_count": null,
   "metadata": {},
   "outputs": [],
   "source": [
    "fig = plt.figure(figsize=(15, 10))\n",
    "ax = fig.add_subplot(111)\n",
    "\n",
    "\n",
    "%time m = mandelbrot_jitted(X, Y, 4.0, 100)\n",
    "    \n",
    "ax.imshow(np.log(1 + m), extent=[-2.0, 1, -1.0, 1.0]);\n",
    "ax.set_aspect('equal')\n",
    "ax.set_ylabel('Im[c]')\n",
    "ax.set_xlabel('Re[c]');"
   ]
  },
  {
   "cell_type": "markdown",
   "metadata": {},
   "source": [
    "### Getting parallelization information"
   ]
  },
  {
   "cell_type": "code",
   "execution_count": null,
   "metadata": {},
   "outputs": [],
   "source": [
    "mandelbrot_jitted.parallel_diagnostics(level=3)"
   ]
  },
  {
   "cell_type": "markdown",
   "metadata": {},
   "source": [
    "## Creating `ufuncs` using `numba.vectorize`"
   ]
  },
  {
   "cell_type": "code",
   "execution_count": null,
   "metadata": {},
   "outputs": [],
   "source": [
    "from math import sin\n",
    "from numba import float64, int64\n",
    "\n",
    "def my_numpy_sin(a, b):\n",
    "    return np.sin(a) + np.sin(b)\n",
    "\n",
    "@np.vectorize\n",
    "def my_sin(a, b):\n",
    "    return sin(a) + sin(b)\n",
    "\n",
    "@numba.vectorize([float64(float64, float64), int64(int64, int64)], target='parallel')\n",
    "def my_sin_numba(a, b):\n",
    "    return np.sin(a) + np.sin(b)"
   ]
  },
  {
   "cell_type": "code",
   "execution_count": null,
   "metadata": {},
   "outputs": [],
   "source": [
    "x = np.random.randint(0, 100, size=9000000)\n",
    "y = np.random.randint(0, 100, size=9000000)\n",
    "\n",
    "%time _ = my_numpy_sin(x, y)\n",
    "%time _ = my_sin(x, y)\n",
    "%time _ = my_sin_numba(x, y)"
   ]
  },
  {
   "cell_type": "markdown",
   "metadata": {},
   "source": [
    "### Vectorize the testing of prime numbers "
   ]
  },
  {
   "cell_type": "code",
   "execution_count": null,
   "metadata": {},
   "outputs": [],
   "source": [
    "@numba.vectorize('boolean(int64)')\n",
    "def is_prime_v(n):\n",
    "    if n <= 1:\n",
    "        raise ArithmeticError(f'\"0\" <= 1')\n",
    "    if n == 2 or n == 3:\n",
    "        return True\n",
    "    elif n % 2 == 0:\n",
    "        return False\n",
    "    else:\n",
    "        n_sqrt = math.ceil(math.sqrt(n))\n",
    "        for i in range(3, n_sqrt):\n",
    "            if n % i == 0:\n",
    "                return False\n",
    "            \n",
    "    return True"
   ]
  },
  {
   "cell_type": "code",
   "execution_count": null,
   "metadata": {},
   "outputs": [],
   "source": [
    "numbers = np.random.randint(2, 10000000000, dtype=np.int64, size=100000)\n",
    "%time p = is_prime_v(numbers)"
   ]
  },
  {
   "cell_type": "markdown",
   "metadata": {},
   "source": [
    "### Parallelize the vectorized function"
   ]
  },
  {
   "cell_type": "code",
   "execution_count": null,
   "metadata": {},
   "outputs": [],
   "source": [
    "@numba.vectorize(['boolean(int64)', 'boolean(int32)'],\n",
    "                 target='parallel')\n",
    "def is_prime_vp(n):\n",
    "    if n <= 1:\n",
    "        raise ArithmeticError('n <= 1')\n",
    "    if n == 2 or n == 3:\n",
    "        return True\n",
    "    elif n % 2 == 0:\n",
    "        return False\n",
    "    else:\n",
    "        n_sqrt = math.ceil(math.sqrt(n))\n",
    "        for i in range(3, n_sqrt):\n",
    "            if n % i == 0:\n",
    "                return False\n",
    "            \n",
    "    return True"
   ]
  },
  {
   "cell_type": "code",
   "execution_count": null,
   "metadata": {},
   "outputs": [],
   "source": [
    "numbers = np.random.randint(2, 10000000000, dtype=np.int64, size=100000)\n",
    "%time p1 = is_prime_v(numbers)\n",
    "%time p2 = is_prime_vp(numbers)"
   ]
  },
  {
   "cell_type": "code",
   "execution_count": null,
   "metadata": {},
   "outputs": [],
   "source": [
    "# Print the largest primes from to 1 and 10 millions\n",
    "numbers = np.arange(1000000, 10000001, dtype=np.int32)\n",
    "%time p1 = is_prime_vp(numbers)\n",
    "primes = numbers[p1]\n",
    "\n",
    "for n in primes[-10:]:\n",
    "    print(n)"
   ]
  }
 ],
 "metadata": {
  "kernelspec": {
   "display_name": "Python 3",
   "language": "python",
   "name": "python3"
  },
  "language_info": {
   "codemirror_mode": {
    "name": "ipython",
    "version": 3
   },
   "file_extension": ".py",
   "mimetype": "text/x-python",
   "name": "python",
   "nbconvert_exporter": "python",
   "pygments_lexer": "ipython3",
   "version": "3.6.5"
  }
 },
 "nbformat": 4,
 "nbformat_minor": 2
}
