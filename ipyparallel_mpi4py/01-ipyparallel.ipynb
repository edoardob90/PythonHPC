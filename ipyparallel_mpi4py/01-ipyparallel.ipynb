{
 "cells": [
  {
   "cell_type": "markdown",
   "metadata": {
    "slideshow": {
     "slide_type": "slide"
    }
   },
   "source": [
    "# IPython Parallel \n",
    "\n",
    "In regular IPython we have a client (the frontend) and a kernel which executes the code. And they communciate with messages. \n",
    "\n",
    "So, as IPython already does remote execution... if you have _one_ remote kernel, why not have _one hundred_?\n",
    "\n",
    "These are called IPython Parallel \"engines\"\n",
    "\n",
    "<div>\n",
    "<img src=\"ipyparallel.png\" style=\"width:300px\"/>\n",
    "</div>\n",
    "Rather than having clients (blue) connect directly to kernels (green) as in notebook, you have an intermediary of a hub (with schedulers) - known as the \"controller\". The client communicates only with the controller. The controller keeps track of the available engines and forwards requests from the client to the engines. It schedules the work and monitors its status. The results are communicated through the controller back to the client."
   ]
  },
  {
   "cell_type": "markdown",
   "metadata": {},
   "source": [
    "To use IPython for parallel computing, you need to start one instance of the controller and one or more instances of the engines. The controller and each engine can run on different machines or on the same machine.\n",
    "\n",
    "There are two ways of going about starting a controller and engines:\n",
    "\n",
    "- Separately, using the **ipcontroller** and **ipengine** commands.\n",
    "- In an automated manner using the **ipcluster** command.\n"
   ]
  },
  {
   "cell_type": "markdown",
   "metadata": {},
   "source": [
    "<div class=\"alert alert-block alert-info\">\n",
    "    <b>Note:</b> The following commands need to be entered in a terminal. File > New > Terminal. A terminal will open as a new tab. Grab the tab and pull it to the right to have the terminal next to your notebook. The terminal does not have the same environment loaded as the notebook. To fix that we need to \"source pythonhpc\". \n",
    "</div>"
   ]
  },
  {
   "cell_type": "markdown",
   "metadata": {},
   "source": [
    "```\n",
    "$ source pythonhpc.sh\n",
    "$ ipcluster start --n 4  &\n",
    "```    "
   ]
  },
  {
   "cell_type": "markdown",
   "metadata": {},
   "source": [
    "Now let's see how we access the \"Cluster\". [IPython][IP] comes with a module [ipyparallel][IPp] that is used to access the engines, we just started. We first need to import Client.\n",
    "\n",
    "[IPp]: https://ipyparallel.readthedocs.io/en/latest/\n",
    "[IP]: http://www.ipython.org\n",
    "\n",
    "The client is started by first importing it from ipyparallel and then by initalizing it. "
   ]
  },
  {
   "cell_type": "code",
   "execution_count": null,
   "metadata": {},
   "outputs": [],
   "source": [
    "import ipyparallel as ipp"
   ]
  },
  {
   "cell_type": "markdown",
   "metadata": {},
   "source": [
    "<div class=\"alert alert-block alert-danger\">\n",
    "    <b>Note:</b> If you receive an error ModuleNotFoundError: No module named 'ipyparallel', ensure that you have the miniconda kernel loaded\n",
    "</div>\n"
   ]
  },
  {
   "cell_type": "code",
   "execution_count": null,
   "metadata": {},
   "outputs": [],
   "source": [
    "rc = ipp.Client(profile=\"default\")"
   ]
  },
  {
   "cell_type": "markdown",
   "metadata": {},
   "source": [
    "You can set up \"profiles\" - you could have a profile for your laptop, one that connects you to a remote cluster, and so on. The above connects the client through the controller to the engines. \"rc\" will now contain a list of engines, which we can list. "
   ]
  },
  {
   "cell_type": "markdown",
   "metadata": {},
   "source": [
    "List the ids of the engines attached:"
   ]
  },
  {
   "cell_type": "code",
   "execution_count": null,
   "metadata": {},
   "outputs": [],
   "source": [
    "rc.ids"
   ]
  },
  {
   "cell_type": "markdown",
   "metadata": {},
   "source": [
    "## Views\n",
    "Generally we don't act on these engines directly. Instead we create a view first. \n",
    "\n",
    "Views gives us access to a set of engines using a given scheduler. \n",
    "\n",
    "There are two types of views\n",
    "\n",
    "- direct view\n",
    "- load balanced view\n",
    "\n",
    "A *direct view* gives us direct control of the engines.  We can push and pull data and apply functions using a couple of different methods. We are in control what runs where.\n",
    "\n",
    "A *load-balanced view* tries to balance the work between the engines. We can submit tasks to it in the same way as before, but with a *load-balanced view*, the scheduler decides where a function is executed.\n",
    "\n",
    "You can create DirectViews to single engines simply by accessing the client by engine id:"
   ]
  },
  {
   "cell_type": "code",
   "execution_count": null,
   "metadata": {},
   "outputs": [],
   "source": [
    "rc[0]"
   ]
  },
  {
   "cell_type": "markdown",
   "metadata": {},
   "source": [
    "You can also create a DirectView with a list of engines:"
   ]
  },
  {
   "cell_type": "code",
   "execution_count": null,
   "metadata": {},
   "outputs": [],
   "source": [
    "rc[0,1,2,3]"
   ]
  },
  {
   "cell_type": "markdown",
   "metadata": {},
   "source": [
    "Or you can slice and dice:"
   ]
  },
  {
   "cell_type": "code",
   "execution_count": null,
   "metadata": {},
   "outputs": [],
   "source": [
    "#v01 = rc[0:2] #engines 0,1\n",
    "#v23 = rc[2:4] #engines 2,3\n",
    "#even = rc[::2] #stride of 2\n",
    "#odd = rc[1::2] #stride of 2, offset of 1\n",
    "dview = rc[:] # all available engines"
   ]
  },
  {
   "cell_type": "markdown",
   "metadata": {},
   "source": [
    "The load balanced view always runs tasks on exactly one engine, but it let the scheduler decide where that should be. Load-balanced views can be created with the client’s view method:\n"
   ]
  },
  {
   "cell_type": "code",
   "execution_count": null,
   "metadata": {},
   "outputs": [],
   "source": [
    "lbv = rc.load_balanced_view()"
   ]
  },
  {
   "cell_type": "markdown",
   "metadata": {},
   "source": [
    "## Using the Direct View\n",
    "\n",
    "As mentioned above a *direct view* lets you control each engine directly. You can also decide if a command should be blocking or not."
   ]
  },
  {
   "cell_type": "code",
   "execution_count": null,
   "metadata": {},
   "outputs": [],
   "source": [
    "rc.block = True # we want blocking calls for now"
   ]
  },
  {
   "cell_type": "code",
   "execution_count": null,
   "metadata": {},
   "outputs": [],
   "source": [
    "def mul(a, b):\n",
    "    return a*b"
   ]
  },
  {
   "cell_type": "code",
   "execution_count": null,
   "metadata": {},
   "outputs": [],
   "source": [
    "def summary():\n",
    "    \"\"\" info about this process\"\"\"\n",
    "    import os\n",
    "    import socket\n",
    "    import sys\n",
    "    return {\n",
    "        'cwd': os.getcwd(),\n",
    "        'Python': sys.version,\n",
    "        'hostname': socket.gethostname(),\n",
    "        'pid': os.getpid(),\n",
    "    }"
   ]
  },
  {
   "cell_type": "code",
   "execution_count": null,
   "metadata": {},
   "outputs": [],
   "source": [
    "mul(5, 6)"
   ]
  },
  {
   "cell_type": "code",
   "execution_count": null,
   "metadata": {},
   "outputs": [],
   "source": [
    "summary()"
   ]
  },
  {
   "cell_type": "markdown",
   "metadata": {},
   "source": [
    "### Remote execution: view.apply\n",
    "\n",
    "The basic API for remote execution with IPython is `view.apply`.\n",
    "\n",
    "Create a view, and instead of calling the function locally, \n",
    "pass the function and its arguments. So instead of mul(5, 6) call apply(mul, 5 ,6)"
   ]
  },
  {
   "cell_type": "code",
   "execution_count": null,
   "metadata": {},
   "outputs": [],
   "source": [
    "rc[0].apply(mul, 5 ,6)"
   ]
  },
  {
   "cell_type": "code",
   "execution_count": null,
   "metadata": {},
   "outputs": [],
   "source": [
    "rc[0].apply(summary)"
   ]
  },
  {
   "cell_type": "markdown",
   "metadata": {},
   "source": [
    "Although the hostnames are the same (we are running all processes on a single node) the pids are different. Summary function was called on the remote engine. \n",
    "IPython packed up the function, packed up the arguments, sent them over to engine and it called it and sent the return back.\n"
   ]
  },
  {
   "cell_type": "code",
   "execution_count": null,
   "metadata": {},
   "outputs": [],
   "source": [
    "d = _\n",
    "d['pid']"
   ]
  },
  {
   "cell_type": "markdown",
   "metadata": {},
   "source": [
    "And in parallel:"
   ]
  },
  {
   "cell_type": "code",
   "execution_count": null,
   "metadata": {},
   "outputs": [],
   "source": [
    "rc[:].apply(mul, 5, 6)"
   ]
  },
  {
   "cell_type": "markdown",
   "metadata": {},
   "source": [
    "You get a list which is the same shape as the engines."
   ]
  },
  {
   "cell_type": "code",
   "execution_count": null,
   "metadata": {},
   "outputs": [],
   "source": [
    "rc[:].apply(summary)"
   ]
  },
  {
   "cell_type": "markdown",
   "metadata": {},
   "source": [
    "Python has a built-in function for mapping. You call map with a function and iterators of arguments."
   ]
  },
  {
   "cell_type": "code",
   "execution_count": null,
   "metadata": {},
   "outputs": [],
   "source": [
    "list(map(mul, range(1,10), range(2,11)))"
   ]
  },
  {
   "cell_type": "markdown",
   "metadata": {},
   "source": [
    "In parallel we have the map method."
   ]
  },
  {
   "cell_type": "code",
   "execution_count": null,
   "metadata": {},
   "outputs": [],
   "source": [
    "list(dview.map(mul, range(1,10), range(2,11)))"
   ]
  },
  {
   "cell_type": "markdown",
   "metadata": {},
   "source": [
    "## Moving objects around \n",
    "\n",
    "You can transfer Python objects to and from the engines. In IPython, these operations are called `push()` (sending an object to the engines) and `pull()` (getting an object from the engines)."
   ]
  },
  {
   "cell_type": "markdown",
   "metadata": {},
   "source": [
    "Here are some examples"
   ]
  },
  {
   "cell_type": "code",
   "execution_count": null,
   "metadata": {},
   "outputs": [],
   "source": [
    "dview.block = True\n",
    "dview.push(dict(a=1.032, b=3453))"
   ]
  },
  {
   "cell_type": "code",
   "execution_count": null,
   "metadata": {},
   "outputs": [],
   "source": [
    "dview.pull('a')"
   ]
  },
  {
   "cell_type": "code",
   "execution_count": null,
   "metadata": {},
   "outputs": [],
   "source": [
    "dview.pull('b', targets=0)"
   ]
  },
  {
   "cell_type": "code",
   "execution_count": null,
   "metadata": {},
   "outputs": [],
   "source": [
    "dview.pull(('a', 'b'))"
   ]
  },
  {
   "cell_type": "markdown",
   "metadata": {},
   "source": [
    "Note: if you are using non-blocking then `push()` and `pull()` also return `AsyncResult` objects:"
   ]
  },
  {
   "cell_type": "code",
   "execution_count": null,
   "metadata": {},
   "outputs": [],
   "source": [
    "ar = dview.pull('a', block=False)\n",
    "#ar"
   ]
  },
  {
   "cell_type": "code",
   "execution_count": null,
   "metadata": {},
   "outputs": [],
   "source": [
    "ar.get()"
   ]
  },
  {
   "cell_type": "markdown",
   "metadata": {},
   "source": [
    "## Scatter and gather\n",
    "\n",
    "It might be useful to partition a sequence and push the partitions to different engines. In MPI, this is known as scatter/gather. Here, however, scatter() is from the interactive IPython/Notebook to the engines and gather() is from the engines back to the interactive IPython/Notebook. For scatter/gather operations between engines we can use MPI."
   ]
  },
  {
   "cell_type": "code",
   "execution_count": null,
   "metadata": {},
   "outputs": [],
   "source": [
    "dview.scatter('a',range(16))"
   ]
  },
  {
   "cell_type": "code",
   "execution_count": null,
   "metadata": {},
   "outputs": [],
   "source": [
    "dview['a']"
   ]
  },
  {
   "cell_type": "code",
   "execution_count": null,
   "metadata": {},
   "outputs": [],
   "source": [
    "dview.gather('a') # This will show you the status of gather."
   ]
  },
  {
   "cell_type": "code",
   "execution_count": null,
   "metadata": {},
   "outputs": [],
   "source": [
    "#you can also do async\n",
    "dview.block = False\n",
    "dview.scatter('a',range(32))\n",
    "dview.gather('a').get() # This will give you the result."
   ]
  },
  {
   "cell_type": "markdown",
   "metadata": {},
   "source": [
    "### Remote function decorators\n",
    "\n",
    "These are like normal functions but when called they execute on one or more engines instead than locally. IPython provides two decorators for producing parallel functions:\n",
    "\n",
    "The first is `@remote`, which calls the function on all engines in a view."
   ]
  },
  {
   "cell_type": "code",
   "execution_count": null,
   "metadata": {},
   "outputs": [],
   "source": [
    "@dview.remote(block=True)\n",
    "def getpid():\n",
    "    import os\n",
    "    return os.getpid()"
   ]
  },
  {
   "cell_type": "code",
   "execution_count": null,
   "metadata": {},
   "outputs": [],
   "source": [
    "getpid()"
   ]
  },
  {
   "cell_type": "markdown",
   "metadata": {},
   "source": [
    "The second is `@parallel`. It creates parallel functions that break up element-wise operations and distribute them, reconstructing the result."
   ]
  },
  {
   "cell_type": "code",
   "execution_count": null,
   "metadata": {},
   "outputs": [],
   "source": [
    "import numpy as np\n",
    "A = np.random.random((64,48))\n",
    "@dview.parallel(block=True)\n",
    "def pmul(A,B):\n",
    "    return A*B\n",
    "\n",
    "C_local = A*A\n",
    "C_remote = pmul(A,A)\n",
    "\n",
    "(C_local == C_remote).all()"
   ]
  },
  {
   "cell_type": "markdown",
   "metadata": {},
   "source": [
    "## Parallel Magics\n",
    "\n",
    "IPython makes it very easy to use IPyParallel. It provides the magic commands ``%px`` and ``%%px`` to execute code in parallel. The target attribute is used to pick the engines, you want. By default, all the engines of the last Client object created are used. You can also specify if a command should be executed `blocking` or `non-blocking`.\n",
    "\n",
    "Note, the commands prefixed with ``%px`` are not executed locally!"
   ]
  },
  {
   "cell_type": "code",
   "execution_count": null,
   "metadata": {
    "slideshow": {
     "slide_type": "fragment"
    }
   },
   "outputs": [],
   "source": [
    "%px import numpy as np # import numpy on all engines as np\n",
    "import numpy as np # do it locally, too."
   ]
  },
  {
   "cell_type": "markdown",
   "metadata": {
    "slideshow": {
     "slide_type": "notes"
    }
   },
   "source": [
    "Since it's fairly common that you want to execute a cell remotely and locally, there's an option for that. Just add ``--local``.\n",
    "\n",
    "**Note**: This works only for ``%%px`` not ``%px``."
   ]
  },
  {
   "cell_type": "code",
   "execution_count": null,
   "metadata": {
    "slideshow": {
     "slide_type": "fragment"
    }
   },
   "outputs": [],
   "source": [
    "%%px --local \n",
    "np.__version__ # print the numpy version of the engines. Note how the output is prefixed. It can be accessed that way, too. "
   ]
  },
  {
   "cell_type": "markdown",
   "metadata": {
    "slideshow": {
     "slide_type": "skip"
    }
   },
   "source": [
    " The engines run IPython. Magic commands work, too."
   ]
  },
  {
   "cell_type": "code",
   "execution_count": null,
   "metadata": {
    "slideshow": {
     "slide_type": "skip"
    }
   },
   "outputs": [],
   "source": [
    "%%px --local\n",
    "%matplotlib inline"
   ]
  },
  {
   "cell_type": "code",
   "execution_count": null,
   "metadata": {
    "slideshow": {
     "slide_type": "skip"
    }
   },
   "outputs": [],
   "source": [
    "%%px --local \n",
    "import matplotlib.pyplot as plt\n"
   ]
  },
  {
   "cell_type": "markdown",
   "metadata": {
    "slideshow": {
     "slide_type": "skip"
    }
   },
   "source": [
    "The cell magic command ``%%px`` lets us execute more than one statement. The option ``--target`` lets us choose which engines we want to use. Here we are using engines 0 to 1."
   ]
  },
  {
   "cell_type": "code",
   "execution_count": null,
   "metadata": {
    "slideshow": {
     "slide_type": "skip"
    }
   },
   "outputs": [],
   "source": [
    "%%px --target 0:2\n",
    "a = np.random.random([10,10])\n",
    "plt.imshow(a, interpolation=\"nearest\")"
   ]
  },
  {
   "cell_type": "markdown",
   "metadata": {
    "slideshow": {
     "slide_type": "skip"
    }
   },
   "source": [
    "Remember that the imports we do with ``%px`` are not available directly in our notebook. We can fix that by using:"
   ]
  },
  {
   "cell_type": "code",
   "execution_count": null,
   "metadata": {
    "slideshow": {
     "slide_type": "skip"
    }
   },
   "outputs": [],
   "source": [
    "with rc[:].sync_imports():\n",
    "    import matplotlib.pyplot"
   ]
  },
  {
   "cell_type": "code",
   "execution_count": null,
   "metadata": {},
   "outputs": [],
   "source": [
    "%%px \n",
    "import os, socket\n",
    "print(os.getpid())\n",
    "print(socket.gethostname())"
   ]
  },
  {
   "cell_type": "markdown",
   "metadata": {},
   "source": [
    "You can say you want something executed both locally and on the engines with an option to the magic:"
   ]
  },
  {
   "cell_type": "code",
   "execution_count": null,
   "metadata": {},
   "outputs": [],
   "source": [
    "%%px --local\n",
    "import numpy"
   ]
  },
  {
   "cell_type": "markdown",
   "metadata": {},
   "source": [
    "The above is equivalent to:"
   ]
  },
  {
   "cell_type": "code",
   "execution_count": null,
   "metadata": {},
   "outputs": [],
   "source": [
    "%px import numpy as np\n",
    "import numpy as np"
   ]
  },
  {
   "cell_type": "code",
   "execution_count": null,
   "metadata": {},
   "outputs": [],
   "source": [
    "%%px --local\n",
    "print(np.__version__, np.__file__)"
   ]
  }
 ],
 "metadata": {
  "kernelspec": {
   "display_name": "miniconda-pythonhpc",
   "language": "python",
   "name": "miniconda-pythonhpc"
  },
  "language_info": {
   "codemirror_mode": {
    "name": "ipython",
    "version": 3
   },
   "file_extension": ".py",
   "mimetype": "text/x-python",
   "name": "python",
   "nbconvert_exporter": "python",
   "pygments_lexer": "ipython3",
   "version": "3.6.2"
  }
 },
 "nbformat": 4,
 "nbformat_minor": 4
}
