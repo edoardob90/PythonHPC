{
 "cells": [
  {
   "cell_type": "markdown",
   "metadata": {
    "slideshow": {
     "slide_type": "slide"
    }
   },
   "source": [
    "# Installing a Custom Kernel\n",
    "\n",
    "_Tim Robinson, CSCS_\n",
    "\n",
    "A Jupyter notebook is attached to a \"kernel\", which runs the code. An IPython kernel is provided by default and can be accessed via the Launcher. A bash kernel is also provided. \n",
    "\n",
    "Here we will create a custom kernel which loads a conda environment which has been built specifically for this course. It includes (amongst other things) numba, which is a JIT compiler for numerical functions in Python.  \n",
    "\n",
    "We will use this kernel for subsequent exercises.\n",
    "\n",
    "<div class=\"alert alert-block alert-info\">\n",
    "<b>Tip:</b> JupyterLab looks for user-installed kernels in $HOME/.local/share/jupyter/kernels/.\n",
    "</div>\n",
    "\n",
    "We will install our new kernel by issuing commands directly from this notebook. The most important file in a kernel directory is `kernel.json`. This is a JSON serialised dictionary containing the following (required) keys and values (and some optional others):\n",
    "- argv: list of command line arguments used to start the kernel. The text {connection_file} in any argument will be replaced with the path to the connection file (this specifies how to set up communications with the frontend).\n",
    "- display_name: The kernel’s name in the user interface. \n",
    "- language: The name of the language of the kernel. "
   ]
  },
  {
   "cell_type": "markdown",
   "metadata": {
    "slideshow": {
     "slide_type": "slide"
    }
   },
   "source": [
    "First, create a directory to hold your kernel using the `!` operator:"
   ]
  },
  {
   "cell_type": "code",
   "execution_count": 1,
   "metadata": {
    "slideshow": {
     "slide_type": "fragment"
    }
   },
   "outputs": [],
   "source": [
    "! mkdir -p ~/.local/share/jupyter/kernels/miniconda-pythonhpc"
   ]
  },
  {
   "cell_type": "markdown",
   "metadata": {
    "slideshow": {
     "slide_type": "slide"
    }
   },
   "source": [
    "Now, write the `kernel.json` file in that directory, using the `%%writefile` magic. We add the path to a custom launcher script called `mcphpchpc-launcher`.\n",
    "<div class=\"alert alert-warning alert-block alert-info\">\n",
    "<b>Note:</b> Replace \"REPLACE_WITH_YOUR_USER_NAME\" with your course username before executing the following cell!\n",
    "</div>"
   ]
  },
  {
   "cell_type": "code",
   "execution_count": 2,
   "metadata": {
    "slideshow": {
     "slide_type": "fragment"
    }
   },
   "outputs": [
    {
     "name": "stdout",
     "output_type": "stream",
     "text": [
      "Writing /users/course48/.local/share/jupyter/kernels/miniconda-pythonhpc/kernel.json\n"
     ]
    }
   ],
   "source": [
    "%%writefile ~/.local/share/jupyter/kernels/miniconda-pythonhpc/kernel.json\n",
    "{\n",
    " \"display_name\": \"miniconda-pythonhpc\",\n",
    " \"language\": \"python\",\n",
    " \"argv\": [\n",
    "  \"/users/course48/.local/share/jupyter/kernels/miniconda-pythonhpc/mcphpc-launcher\",\n",
    "  \"-f\",\n",
    "  \"{connection_file}\"\n",
    " ]\n",
    "}"
   ]
  },
  {
   "cell_type": "markdown",
   "metadata": {
    "slideshow": {
     "slide_type": "slide"
    }
   },
   "source": [
    "Now, create the `mcphpc-launcher` script that is called by that kernel:"
   ]
  },
  {
   "cell_type": "code",
   "execution_count": 3,
   "metadata": {
    "slideshow": {
     "slide_type": "fragment"
    }
   },
   "outputs": [
    {
     "name": "stdout",
     "output_type": "stream",
     "text": [
      "Writing /users/course48/.local/share/jupyter/kernels/miniconda-pythonhpc/mcphpc-launcher\n"
     ]
    }
   ],
   "source": [
    "%%writefile ~/.local/share/jupyter/kernels/miniconda-pythonhpc/mcphpc-launcher\n",
    "#!/usr/bin/env bash \n",
    "export PYTHONPATH=''\n",
    "export PATH=/apps/daint/UES/6.0.UP04/sandboxes/sarafael/miniconda-pythonhpc/bin:$PATH\n",
    "/apps/daint/UES/6.0.UP04/sandboxes/sarafael/miniconda-pythonhpc/bin/python -m ipykernel_launcher $@"
   ]
  },
  {
   "cell_type": "markdown",
   "metadata": {
    "slideshow": {
     "slide_type": "slide"
    }
   },
   "source": [
    "Finally, make the custom launcher script executable:"
   ]
  },
  {
   "cell_type": "code",
   "execution_count": 4,
   "metadata": {
    "slideshow": {
     "slide_type": "fragment"
    }
   },
   "outputs": [],
   "source": [
    "! chmod +x ~/.local/share/jupyter/kernels/miniconda-pythonhpc/mcphpc-launcher"
   ]
  },
  {
   "cell_type": "markdown",
   "metadata": {},
   "source": [
    "## Attaching to the new kernel\n",
    "\n",
    "Before switching to the new kernel:\n",
    "\n",
    "<div class=\"alert alert-warning alert-block alert-info\"><b>Exercise:</b> What version of numpy is provided in the default Python 3 kernel? And where is numpy imported from?</div>"
   ]
  },
  {
   "cell_type": "code",
   "execution_count": 1,
   "metadata": {
    "slideshow": {
     "slide_type": "fragment"
    }
   },
   "outputs": [
    {
     "name": "stdout",
     "output_type": "stream",
     "text": [
      "1.17.3\n",
      "/apps/daint/UES/6.0.UP04/sandboxes/sarafael/miniconda-pythonhpc/lib/python3.6/site-packages/numpy/__init__.py\n"
     ]
    }
   ],
   "source": [
    "import numpy as np\n",
    "print(np.__version__)\n",
    "print(np.__file__)"
   ]
  },
  {
   "cell_type": "markdown",
   "metadata": {
    "slideshow": {
     "slide_type": "slide"
    }
   },
   "source": [
    "### Now switch kernels\n",
    "\n",
    "Attach this notebook to the kernel you have just created. You can do this in a number of different ways:\n",
    "- Via the Main Menu (Kernel -> Change Kernel...)\n",
    "- By clicking on \"Python 3\" at the top right of the notebook tab... \n",
    "- By clicking on \"Python 3\" on the left of the JupyterLab bottom toolbar...  \n",
    "- By searching for \"Change Kernel\" in the Command Palette\n",
    "\n",
    "The new kernel should also be availalbe when creating new notebooks via the Launcher"
   ]
  },
  {
   "cell_type": "markdown",
   "metadata": {
    "slideshow": {
     "slide_type": "slide"
    }
   },
   "source": [
    "<div class=\"alert alert-warning alert-block alert-info\"><b>Exercise:</b> Verify you have switched kernel - What version of numpy is provided in the new kernel? And where is it located?</div>"
   ]
  },
  {
   "cell_type": "code",
   "execution_count": null,
   "metadata": {},
   "outputs": [],
   "source": []
  },
  {
   "cell_type": "markdown",
   "metadata": {
    "slideshow": {
     "slide_type": "slide"
    }
   },
   "source": [
    "<div class=\"alert alert-warning alert-block alert-info\"><b>Exercise:</b> Which vendor linear algebra library is numpy linked to in the new kernel?</div>"
   ]
  },
  {
   "cell_type": "code",
   "execution_count": 2,
   "metadata": {
    "slideshow": {
     "slide_type": "fragment"
    }
   },
   "outputs": [
    {
     "name": "stdout",
     "output_type": "stream",
     "text": [
      "blas_mkl_info:\n",
      "    libraries = ['mkl_rt', 'pthread']\n",
      "    library_dirs = ['/apps/daint/UES/6.0.UP04/sandboxes/sarafael/miniconda-pythonhpc/lib']\n",
      "    define_macros = [('SCIPY_MKL_H', None), ('HAVE_CBLAS', None)]\n",
      "    include_dirs = ['/apps/daint/UES/6.0.UP04/sandboxes/sarafael/miniconda-pythonhpc/include']\n",
      "blas_opt_info:\n",
      "    libraries = ['mkl_rt', 'pthread']\n",
      "    library_dirs = ['/apps/daint/UES/6.0.UP04/sandboxes/sarafael/miniconda-pythonhpc/lib']\n",
      "    define_macros = [('SCIPY_MKL_H', None), ('HAVE_CBLAS', None)]\n",
      "    include_dirs = ['/apps/daint/UES/6.0.UP04/sandboxes/sarafael/miniconda-pythonhpc/include']\n",
      "lapack_mkl_info:\n",
      "    libraries = ['mkl_rt', 'pthread']\n",
      "    library_dirs = ['/apps/daint/UES/6.0.UP04/sandboxes/sarafael/miniconda-pythonhpc/lib']\n",
      "    define_macros = [('SCIPY_MKL_H', None), ('HAVE_CBLAS', None)]\n",
      "    include_dirs = ['/apps/daint/UES/6.0.UP04/sandboxes/sarafael/miniconda-pythonhpc/include']\n",
      "lapack_opt_info:\n",
      "    libraries = ['mkl_rt', 'pthread']\n",
      "    library_dirs = ['/apps/daint/UES/6.0.UP04/sandboxes/sarafael/miniconda-pythonhpc/lib']\n",
      "    define_macros = [('SCIPY_MKL_H', None), ('HAVE_CBLAS', None)]\n",
      "    include_dirs = ['/apps/daint/UES/6.0.UP04/sandboxes/sarafael/miniconda-pythonhpc/include']\n"
     ]
    }
   ],
   "source": [
    "np.show_config()"
   ]
  },
  {
   "cell_type": "markdown",
   "metadata": {},
   "source": [
    "<div class=\"alert alert-warning alert-block alert-info\"><b>Exercise:</b> Use similar cmmands to determine what version of Numba is in the new kernel.</div>"
   ]
  },
  {
   "cell_type": "code",
   "execution_count": 3,
   "metadata": {},
   "outputs": [
    {
     "name": "stdout",
     "output_type": "stream",
     "text": [
      "System info:\n",
      "--------------------------------------------------------------------------------\n",
      "__Time Stamp__\n",
      "2019-11-11 10:59:43.438743\n",
      "\n",
      "__Hardware Information__\n",
      "Machine                                       : x86_64\n",
      "CPU Name                                      : haswell\n",
      "Number of accessible CPU cores                : 24\n",
      "Listed accessible CPUs cores                  : 0-23\n",
      "CFS restrictions                              : Information not available\n",
      "CPU Features                                  : \n",
      "64bit aes avx avx2 bmi bmi2 cmov cx16 f16c fma fsgsbase invpcid lzcnt mmx movbe\n",
      "pclmul popcnt rdrnd sahf sse sse2 sse3 sse4.1 sse4.2 ssse3 xsave xsaveopt\n",
      "\n",
      "__OS Information__\n",
      "Platform                                      : Linux-4.12.14-150.17_5.0.85-cray_ari_c-x86_64-with-glibc2.9\n",
      "Release                                       : 4.12.14-150.17_5.0.85-cray_ari_c\n",
      "System Name                                   : Linux\n",
      "Version                                       : #1 SMP Thu Aug 22 18:29:02 UTC 2019 (24c42de)\n",
      "OS specific info                              : \n",
      "glibc info                                    : glibc 2.9\n",
      "\n",
      "__Python Information__\n",
      "Python Compiler                               : GCC 7.2.0\n",
      "Python Implementation                         : CPython\n",
      "Python Version                                : 3.6.2\n",
      "Python Locale                                 : en_US UTF-8\n",
      "\n",
      "__LLVM information__\n",
      "LLVM version                                  : 8.0.0\n",
      "\n",
      "__CUDA Information__\n",
      "Found 1 CUDA devices\n",
      "id 0    b'Tesla P100-PCIE-16GB'                              [SUPPORTED]\n",
      "                      compute capability: 6.0\n",
      "                           pci device id: 0\n",
      "                              pci bus id: 2\n",
      "Summary:\n",
      "\t1/1 devices are supported\n",
      "CUDA driver version                           : 10010\n",
      "CUDA libraries:\n",
      "Finding cublas from Conda environment\n",
      "\tnamed  libcublas.so.10.2.1.243\n",
      "\ttrying to open library...\tok\n",
      "Finding cusparse from Conda environment\n",
      "\tnamed  libcusparse.so.10.3.0.243\n",
      "\ttrying to open library...\tok\n",
      "Finding cufft from Conda environment\n",
      "\tnamed  libcufft.so.10.1.1.243\n",
      "\ttrying to open library...\tok\n",
      "Finding curand from Conda environment\n",
      "\tnamed  libcurand.so.10.1.1.243\n",
      "\ttrying to open library...\tok\n",
      "Finding nvvm from Conda environment\n",
      "\tnamed  libnvvm.so.3.3.0\n",
      "\ttrying to open library...\tok\n",
      "Finding libdevice from Conda environment\n",
      "\tsearching for compute_20...\tok\n",
      "\tsearching for compute_30...\tok\n",
      "\tsearching for compute_35...\tok\n",
      "\tsearching for compute_50...\tok\n",
      "\n",
      "__ROC Information__\n",
      "ROC available                                 : False\n",
      "Error initialising ROC due to                 : No ROC toolchains found.\n",
      "No HSA Agents found, encountered exception when searching:\n",
      "Error at driver init: \n",
      "NUMBA_HSA_DRIVER /opt/rocm/lib/libhsa-runtime64.so is not a valid file path.  Note it must be a filepath of the .so/.dll/.dylib or the driver:\n",
      "\n",
      "__SVML Information__\n",
      "SVML state, config.USING_SVML                 : False\n",
      "SVML library found and loaded                 : False\n",
      "llvmlite using SVML patched LLVM              : True\n",
      "SVML operational                              : False\n",
      "\n",
      "__Threading Layer Information__\n",
      "TBB Threading layer available                 : True\n",
      "OpenMP Threading layer available              : True\n",
      "Workqueue Threading layer available           : True\n",
      "\n",
      "__Numba Environment Variable Information__\n",
      "None set.\n",
      "\n",
      "__Conda Information__\n",
      "conda_build_version                           : not installed\n",
      "conda_env_version                             : 4.7.12\n",
      "platform                                      : linux-64\n",
      "python_version                                : 3.6.2.final.0\n",
      "root_writable                                 : False\n",
      "\n",
      "__Current Conda Env__\n",
      "_libgcc_mutex             0.1                        main  \n",
      "asn1crypto                1.2.0                    py36_0  \n",
      "backcall                  0.1.0                    py36_0    anaconda\n",
      "blas                      1.0                         mkl  \n",
      "bokeh                     1.4.0                    py36_0  \n",
      "ca-certificates           2019.10.16                    0    anaconda\n",
      "cairo                     1.14.12              h8948797_3  \n",
      "certifi                   2019.9.11                py36_0    anaconda\n",
      "cffi                      1.13.1           py36h2e261b9_0    anaconda\n",
      "chardet                   3.0.4                 py36_1003  \n",
      "click                     7.0                      py36_0  \n",
      "cloudpickle               1.2.2                      py_0  \n",
      "conda                     4.7.12                   py36_0    anaconda\n",
      "conda-package-handling    1.6.0            py36h7b6447c_0  \n",
      "cryptography              2.3.1            py36hc365091_0  \n",
      "cudatoolkit               10.1.243             h6bb024c_0  \n",
      "cudnn                     7.6.4                cuda10.1_0    anaconda\n",
      "cupy                      6.0.0            py36hc0ce245_0    anaconda\n",
      "cupy-cuda101              6.5.0                    pypi_0    pypi\n",
      "cycler                    0.10.0                     py_2    conda-forge\n",
      "cython                    0.29.13          py36he6710b0_0    anaconda\n",
      "cytoolz                   0.10.0           py36h7b6447c_0  \n",
      "dask                      2.6.0                      py_0  \n",
      "dask-core                 2.6.0                      py_0  \n",
      "dbus                      1.13.2               h714fa37_1  \n",
      "decorator                 4.4.1                      py_0    anaconda\n",
      "distributed               2.6.0                      py_0  \n",
      "expat                     2.2.5             he1b5a44_1004    conda-forge\n",
      "fastrlock                 0.4              py36he6710b0_0    anaconda\n",
      "fontconfig                2.13.0               h9420a91_0  \n",
      "freetype                  2.9.1                h8a8886c_1  \n",
      "fribidi                   1.0.5             h516909a_1002    conda-forge\n",
      "fsspec                    0.5.2                      py_0  \n",
      "gettext                   0.19.8.1          hc5be6a0_1002    conda-forge\n",
      "glib                      2.56.2            had28632_1001    conda-forge\n",
      "graphite2                 1.3.13            hf484d3e_1000    conda-forge\n",
      "graphviz                  2.40.1               h21bd128_2  \n",
      "gst-plugins-base          1.14.0               hbbd80ab_1  \n",
      "gstreamer                 1.14.0               hb453b48_1  \n",
      "harfbuzz                  1.9.0             he243708_1001    conda-forge\n",
      "heapdict                  1.0.1                      py_0  \n",
      "icu                       58.2              hf484d3e_1000    conda-forge\n",
      "idna                      2.8                      py36_0  \n",
      "intel-openmp              2019.4                      243  \n",
      "ipykernel                 5.1.3            py36h39e3cac_0    anaconda\n",
      "ipyparallel               6.2.4                    py36_0    anaconda\n",
      "ipython                   7.9.0            py36h39e3cac_0    anaconda\n",
      "ipython_genutils          0.2.0                    py36_0    anaconda\n",
      "jedi                      0.15.1                   py36_0    anaconda\n",
      "jinja2                    2.10.3                     py_0  \n",
      "jpeg                      9b                   h024ee3a_2  \n",
      "jupyter_client            5.3.4                    py36_0    anaconda\n",
      "jupyter_core              4.6.0                    py36_0    anaconda\n",
      "kiwisolver                1.1.0            py36hc9558a2_0    conda-forge\n",
      "libedit                   3.1                  heed3624_0  \n",
      "libffi                    3.2.1                hd88cf55_4  \n",
      "libgcc-ng                 8.2.0                hdf63c60_1  \n",
      "libgfortran-ng            7.3.0                hdf63c60_0  \n",
      "libiconv                  1.15              h516909a_1005    conda-forge\n",
      "libpng                    1.6.37               hbc83047_0  \n",
      "libsodium                 1.0.16               h1bed415_0    anaconda\n",
      "libstdcxx-ng              8.2.0                hdf63c60_1  \n",
      "libtiff                   4.0.10               h2733197_2  \n",
      "libuuid                   1.0.3                h1bed415_2  \n",
      "libxcb                    1.13              h14c3975_1002    conda-forge\n",
      "libxml2                   2.9.9                hea5a465_1  \n",
      "line_profiler             2.1.2            py36h14c3975_0    anaconda\n",
      "llvmlite                  0.30.0           py36hd408876_0  \n",
      "locket                    0.2.0                    py36_1  \n",
      "markupsafe                1.1.1            py36h7b6447c_0  \n",
      "matplotlib                3.1.1            py36h5429711_0  \n",
      "memory_profiler           0.55.0                   py36_0    anaconda\n",
      "mkl                       2019.4                      243  \n",
      "mkl-service               2.3.0            py36he904b0f_0  \n",
      "mkl_fft                   1.0.15           py36ha843d7b_0  \n",
      "mkl_random                1.1.0            py36hd6b4f25_0  \n",
      "mpi4py                    3.0.3                    pypi_0    pypi\n",
      "msgpack-python            0.6.1            py36hfd86e86_1  \n",
      "nccl                      1.3.5                cuda10.0_0    anaconda\n",
      "ncurses                   6.0                  h9df7e31_2  \n",
      "numba                     0.46.0           py36h962f231_0  \n",
      "numexpr                   2.7.0            py36h9e4a6bb_0    anaconda\n",
      "numpy                     1.17.3           py36hd14ec0e_0  \n",
      "numpy-base                1.17.3           py36hde5b4d6_0  \n",
      "olefile                   0.46                     py36_0  \n",
      "openssl                   1.0.2t               h7b6447c_1    anaconda\n",
      "packaging                 19.2                       py_0  \n",
      "pandas                    0.25.2           py36he6710b0_0  \n",
      "pango                     1.42.4               h049681c_0  \n",
      "parso                     0.5.1                      py_0    anaconda\n",
      "partd                     1.0.0                      py_0  \n",
      "pcre                      8.43                 he1b5a44_0    conda-forge\n",
      "pexpect                   4.7.0                    py36_0    anaconda\n",
      "pickleshare               0.7.5                    py36_0    anaconda\n",
      "pillow                    6.2.1            py36h34e0f95_0  \n",
      "pip                       19.3.1                   py36_0  \n",
      "pixman                    0.38.0            h516909a_1003    conda-forge\n",
      "prompt_toolkit            2.0.10                     py_0    anaconda\n",
      "psutil                    5.6.3            py36h7b6447c_0  \n",
      "pthread-stubs             0.4               h14c3975_1001    conda-forge\n",
      "ptyprocess                0.6.0                    py36_0    anaconda\n",
      "pycosat                   0.6.3            py36h14c3975_0  \n",
      "pycparser                 2.19                     py36_0  \n",
      "pygments                  2.4.2                      py_0    anaconda\n",
      "pyopenssl                 19.0.0                   py36_0  \n",
      "pyparsing                 2.4.2                      py_0  \n",
      "pyqt                      5.9.2            py36h05f1152_2  \n",
      "pysocks                   1.7.1                    py36_0  \n",
      "python                    3.6.2               hca45abc_19  \n",
      "python-dateutil           2.8.0                    py36_0  \n",
      "python-graphviz           0.13                       py_0    conda-forge\n",
      "pytz                      2019.3                     py_0  \n",
      "pyyaml                    5.1.2            py36h7b6447c_0  \n",
      "pyzmq                     18.1.0           py36he6710b0_0    anaconda\n",
      "qt                        5.9.6                h52aff34_0  \n",
      "readline                  7.0                  ha6073c6_4  \n",
      "requests                  2.22.0                   py36_0  \n",
      "ruamel_yaml               0.15.46          py36h14c3975_0  \n",
      "scipy                     1.3.1            py36h7c811a0_0    anaconda\n",
      "setuptools                41.6.0                   py36_0  \n",
      "sip                       4.19.8          py36hf484d3e_1000    conda-forge\n",
      "six                       1.12.0                   py36_0  \n",
      "sortedcontainers          2.1.0                    py36_0  \n",
      "sqlite                    3.23.1               he433501_0  \n",
      "tbb                       2019.8               hfd86e86_0  \n",
      "tblib                     1.4.0                      py_0  \n",
      "tk                        8.6.8                hbc83047_0  \n",
      "toolz                     0.10.0                     py_0  \n",
      "tornado                   6.0.3            py36h7b6447c_0  \n",
      "tqdm                      4.36.1                     py_0  \n",
      "traitlets                 4.3.3                    py36_0    anaconda\n",
      "urllib3                   1.24.2                   py36_0  \n",
      "wcwidth                   0.1.7                    py36_0    anaconda\n",
      "wheel                     0.33.6                   py36_0  \n",
      "xorg-libxau               1.0.9                h14c3975_0    conda-forge\n",
      "xorg-libxdmcp             1.1.3                h516909a_0    conda-forge\n",
      "xz                        5.2.4                h14c3975_4  \n",
      "yaml                      0.1.7                had09818_2  \n",
      "zeromq                    4.3.1                he6710b0_3    anaconda\n",
      "zict                      1.0.0                      py_0  \n",
      "zlib                      1.2.11               h7b6447c_3  \n",
      "zstd                      1.3.7                h0b5b093_0  \n",
      "--------------------------------------------------------------------------------\n",
      "If requested, please copy and paste the information between\n",
      "the dashed (----) lines, or from a given specific section as\n",
      "appropriate.\n",
      "\n",
      "=============================================================\n",
      "IMPORTANT: Please ensure that you are happy with sharing the\n",
      "contents of the information present, any information that you\n",
      "wish to keep private you should remove before sharing.\n",
      "=============================================================\n",
      "\n"
     ]
    }
   ],
   "source": [
    "! numba -s"
   ]
  },
  {
   "cell_type": "markdown",
   "metadata": {},
   "source": [
    "<div class=\"alert alert-warning alert-block alert-info\"><b>Exercise:</b> Determine what computational resources are available on the node using Numba (!numba -s).\n",
    "\n",
    "- How many CPU sockets, how many cores? What architecture...?\n",
    "- Are there GPU(s)? What is the device type, architecture...? </div>"
   ]
  },
  {
   "cell_type": "code",
   "execution_count": null,
   "metadata": {},
   "outputs": [],
   "source": []
  }
 ],
 "metadata": {
  "kernelspec": {
   "display_name": "Python 3",
   "language": "python",
   "name": "python3"
  },
  "language_info": {
   "codemirror_mode": {
    "name": "ipython",
    "version": 3
   },
   "file_extension": ".py",
   "mimetype": "text/x-python",
   "name": "python",
   "nbconvert_exporter": "python",
   "pygments_lexer": "ipython3",
   "version": "3.7.5"
  }
 },
 "nbformat": 4,
 "nbformat_minor": 4
}
